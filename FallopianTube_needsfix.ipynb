{
 "cells": [
  {
   "cell_type": "markdown",
   "metadata": {},
   "source": [
    "# GTEx Tissue-Specific RNA-seq Analysis\n",
    "## *Fallopian Tube*"
   ]
  },
  {
   "cell_type": "markdown",
   "metadata": {},
   "source": [
    "### Data Overview\n",
    "\n",
    "[The Genotype-Tissue Expression Project](https://gtexportal.org/home/) collects tissue samples from well-genotyped human donors with the aim of better understanding how gene expression and regulation correspond to genetic variation. By analyzing tissue-specific RNA-seq data, it is possible to identify new expression quantitative trait loci (eQTLs) which can provide further insight into the mechanisms through which genetic changes occur in disease states. \n",
    "\n",
    "The general notebook template provides a pipeline for the visualization and analysis of gene read counts from the [GTEx v8 Data Release](https://gtexportal.org/home/datasets). Please refer to the [GTEx Documentation](https://gtexportal.org/home/documentationPage) for specifics on how expression and genotype data were obtained. For the purposes of this analysis, the data was further processed as follows:\n",
    "- non-coding genes were removed by cross-checking with a list of known human genes obtained from the [Gene Database](https://ftp.ncbi.nlm.nih.gov/gene/DATA/GENE_INFO/Mammalia/)\n",
    "- for genes with multiple associated Ensembl IDs, only the entry with the highest variance across samples was retained\n",
    "- the data was divided into tissue-specific sub-datasets of counts from the relevant samples\n",
    "- metadata for the relevant samples of each tissue-specific dataset has been formatted for readability\n",
    "\n",
    "The final data used for this analysis consists of two datasets: \n",
    "- *RNA-seq Data*: provides the read counts of each gene (rows) in each sample (columns). \n",
    "- *Sample Metadata*: provides metadata for each sample (rows) such as sex, age range, batch IDs, and more (columns). \n",
    "The sample_ids found in the metadata table correspond to the column names of the RNA-seq data.\n",
    "\n",
    "**Note:** This notebook looks specifically at the data from **Fallopian Tube** tissue samples. \n",
    "*For other tissues, please refer to [this repository](https://github.com/MaayanLab/GTExTissueNotebooks).* \n",
    "\n",
    "### Analysis Overview \n",
    "\n",
    "The RNA-seq data first undergoes normalization and dimensionality reduction via Principle Component Analysis (PCA) and Uniform Manifold Approximation and Projection (UMAP). Samples are then clustered based on their most-associated highly-variable genes and metadata features. The number of clusters is determined based on a modified silhouette score which prioritizes having more clusters over having larger clusters. \n",
    "\n",
    "The most up-regulated and down-regulated genes are also identified for each cluster. These genes are used to perform enrichment analysis via the [Enrichr](https://maayanlab.cloud/Enrichr/) API, as well as to search drug signatures that both mimic and reverse each cluster-specific signature via the [L1000FWD](https://maayanlab.cloud/L1000FWD/) API. "
   ]
  },
  {
   "cell_type": "markdown",
   "metadata": {},
   "source": [
    "## 0. Notebook Setup\n",
    "Set appropriate file names and parameters."
   ]
  },
  {
   "cell_type": "code",
   "execution_count": 1,
   "metadata": {
    "execution": {
     "iopub.execute_input": "2020-09-15T20:39:52.707957Z",
     "iopub.status.busy": "2020-09-15T20:39:52.706469Z",
     "iopub.status.idle": "2020-09-15T20:39:59.340983Z",
     "shell.execute_reply": "2020-09-15T20:39:59.340326Z"
    },
    "scrolled": true
   },
   "outputs": [],
   "source": [
    "import os\n",
    "import numpy as np\n",
    "import pandas as pd\n",
    "import requests\n",
    "import time\n",
    "import matplotlib\n",
    "from matplotlib import pyplot as plt\n",
    "import seaborn as sns\n",
    "from umap import UMAP\n",
    "from scipy.stats import zscore\n",
    "from sklearn.decomposition import PCA\n",
    "from sklearn.linear_model import LogisticRegression\n",
    "from sklearn.metrics import roc_auc_score\n",
    "from sklearn import metrics\n",
    "from sklearn.cluster import KMeans\n",
    "from sklearn.metrics import silhouette_samples, silhouette_score\n",
    "import matplotlib.cm as cm\n",
    "from maayanlab_bioinformatics.dge import characteristic_direction\n",
    "from maayanlab_bioinformatics.normalization import log2_normalize, filter_by_var, zscore_normalize\n",
    "from maayanlab_bioinformatics.utils import merge\n",
    "import plotly.express as px\n",
    "import plotly\n",
    "import math\n",
    "from collections import OrderedDict\n",
    "import json\n",
    "from jupyter_d3 import scatter_plot\n",
    "from IPython.display import display, IFrame, Markdown, HTML\n",
    "from textwrap import wrap\n",
    "from lifelines import KaplanMeierFitter\n",
    "from lifelines.statistics import multivariate_logrank_test, pairwise_logrank_test\n",
    "import plotly.graph_objects as go"
   ]
  },
  {
   "cell_type": "code",
   "execution_count": 2,
   "metadata": {},
   "outputs": [],
   "source": [
    "# dataset selection\n",
    "data_filename = 'https://appyters.maayanlab.cloud/storage/GTEx_Tissue_RNAseq_Analysis/FallopianTube_counts_deduped.tsv'\n",
    "metadata_filename = 'https://appyters.maayanlab.cloud/storage/GTEx_Tissue_RNAseq_Analysis/metadata/metadata_FallopianTube_counts_deduped.tsv'"
   ]
  },
  {
   "cell_type": "code",
   "execution_count": 3,
   "metadata": {},
   "outputs": [],
   "source": [
    "# analysis parameters\n",
    "# defaults are based on defaults used by the Seurat R Package for single cell genomics analysis.\n",
    "\n",
    "n_pca_components = 10\n",
    "n_neighbors = 40\n",
    "min_cluster_dist = 0.3\n",
    "top_n_genes = 2500\n",
    "max_clusters_calculation = 'root/2'\n",
    "use_weighted_silhouette_score = True\n",
    "use_second_deriv_method = True\n",
    "top_n_genes_enrichment = 250\n",
    "heatmap_top_n = 100\n",
    "top_n_results = 5"
   ]
  },
  {
   "cell_type": "code",
   "execution_count": 4,
   "metadata": {
    "execution": {
     "iopub.execute_input": "2020-09-15T20:39:59.356360Z",
     "iopub.status.busy": "2020-09-15T20:39:59.355485Z",
     "iopub.status.idle": "2020-09-15T20:39:59.364273Z",
     "shell.execute_reply": "2020-09-15T20:39:59.364855Z"
    }
   },
   "outputs": [],
   "source": [
    "# enrichment analysis libraries\n",
    "use_default_libraries = True\n",
    "transcription_libraries = []\n",
    "pathways_libraries = []\n",
    "ontologies_libraries = []\n",
    "diseases_drugs_libraries = []\n",
    "cell_types_libraries = []\n",
    "miscellaneous_libraries = []\n",
    "legacy_libraries = []\n",
    "crowd_libraries = []\n",
    "top_n_drugs = 5\n",
    "default_libraries = OrderedDict([\n",
    "    ('Diseases/Drugs', ['GWAS_Catalog_2019']), \n",
    "    ('Ontologies', ['GO_Biological_Process_2018']),\n",
    "    ('Pathways', ['KEGG_2019_Human']),\n",
    "    ('Transcription', ['ENCODE_TF_ChIP-seq_2015']),\n",
    "])\n",
    "\n",
    "# determine if using default libraries\n",
    "if use_default_libraries:\n",
    "    enrichr_libraries = default_libraries\n",
    "else: \n",
    "    enrichr_libraries = OrderedDict([\n",
    "        ('Diseases/Drugs', diseases_drugs_libraries), \n",
    "        ('Ontologies', ontologies_libraries),\n",
    "        ('Cell Type', cell_types_libraries),\n",
    "        ('Pathways', pathways_libraries),\n",
    "        ('Transcription', transcription_libraries),\n",
    "        ('Legacy', legacy_libraries),\n",
    "        ('Crowd', crowd_libraries)\n",
    "    ])\n",
    "    all_empty = True\n",
    "    for key,libs in enrichr_libraries.items():\n",
    "        if len(libs) > 0:\n",
    "            all_empty = False\n",
    "            break\n",
    "    if all_empty:\n",
    "        enrichr_libraries = default_libraries"
   ]
  },
  {
   "cell_type": "code",
   "execution_count": 5,
   "metadata": {},
   "outputs": [],
   "source": [
    "# Notebook display util functions\n",
    "def download_button(content, label, filename):\n",
    "    # Add download button\n",
    "    outname = filename.split('.')[0]\n",
    "    display(HTML('<textarea id=\"textbox_{outname}\" style=\"display: none;\">{content}</textarea> <button style=\"margin:10px 0;\" id=\"create_{outname}\">{label}</button> <a download=\"{filename}\" id=\"downloadlink_{outname}\" style=\"display: none\">Download</a>'.format(**locals())))\n",
    "    display(HTML('<script type=\"text/javascript\">!function(){{var e=null,t=document.getElementById(\"create_{outname}\"),n=document.getElementById(\"textbox_{outname}\");t.addEventListener(\"click\",function(){{var t,l,c=document.getElementById(\"downloadlink_{outname}\");c.href=(t=n.value,l=new Blob([t],{{type:\"text/plain\"}}),null!==e&&window.URL.revokeObjectURL(e),e=window.URL.createObjectURL(l)),c.click()}},!1)}}();</script>'.format(**locals())))\n",
    "\n",
    "def make_clickable(link):\n",
    "    return f'<a target=\"_blank\" href=\"{link}\">{link}</a>'\n",
    "\n",
    "def figure_header(label,title):\n",
    "    display(HTML(f\"<div style='font-size:2rem; padding:1rem 0;'><b>{label}</b>: {title}</div>\"))\n",
    "    \n",
    "def figure_legend(label,title,content=\"\"):\n",
    "    display(HTML(f\"<div style='font-size:1.5rem;'><b>{label}</b>: <i>{title}</i>. {content} </div>\"))"
   ]
  },
  {
   "cell_type": "markdown",
   "metadata": {},
   "source": [
    "## 1. Import Datasets\n",
    "Load RNA-seq gene read counts and associated sample metadata into dataframes."
   ]
  },
  {
   "cell_type": "code",
   "execution_count": 6,
   "metadata": {
    "execution": {
     "iopub.execute_input": "2020-09-15T20:39:59.395021Z",
     "iopub.status.busy": "2020-09-15T20:39:59.392425Z",
     "iopub.status.idle": "2020-09-15T20:39:59.396831Z",
     "shell.execute_reply": "2020-09-15T20:39:59.398316Z"
    }
   },
   "outputs": [],
   "source": [
    "def load_dataframe(file):\n",
    "    ''' Load a file by downloading it or reading it if already downloaded.\n",
    "    '''\n",
    "    ext = os.path.splitext(file)[1]\n",
    "    if ext in {'.tsv', '.txt'}:\n",
    "        df = pd.read_csv(file, sep='\\t', index_col=0)\n",
    "    elif ext == '.csv':\n",
    "        df = pd.read_csv(file, index_col=0)\n",
    "    else:\n",
    "        raise Exception('Unrecognized file format', ext)\n",
    "\n",
    "    # Fix any type coersion on identifiers\n",
    "    df.index = df.index.astype(str)\n",
    "    df.columns = df.columns.astype(str)\n",
    "\n",
    "    return df"
   ]
  },
  {
   "cell_type": "code",
   "execution_count": 7,
   "metadata": {
    "execution": {
     "iopub.execute_input": "2020-09-15T20:39:59.417601Z",
     "iopub.status.busy": "2020-09-15T20:39:59.413623Z",
     "iopub.status.idle": "2020-09-15T20:40:00.458942Z",
     "shell.execute_reply": "2020-09-15T20:40:00.459513Z"
    }
   },
   "outputs": [
    {
     "name": "stdout",
     "output_type": "stream",
     "text": [
      "Loading user-uploaded data...\n",
      "Data loaded\n",
      "\n"
     ]
    }
   ],
   "source": [
    "data_index = \"symbol\"\n",
    "metadata_index = \"sample_id\"\n",
    "\n",
    "print(f\"Loading user-uploaded data...\")\n",
    "df_data = load_dataframe(data_filename).sort_index()\n",
    "df_metadata = load_dataframe(metadata_filename).sort_index()\n",
    "\n",
    "df_data.index.name = \"symbol\"\n",
    "df_metadata.index.name = \"sample_id\" \n",
    "\n",
    "print(\"Data loaded\\n\")"
   ]
  },
  {
   "cell_type": "markdown",
   "metadata": {},
   "source": [
    "### 1a. RNA-seq Data"
   ]
  },
  {
   "cell_type": "code",
   "execution_count": 8,
   "metadata": {
    "execution": {
     "iopub.execute_input": "2020-09-15T20:40:00.469387Z",
     "iopub.status.busy": "2020-09-15T20:40:00.468666Z",
     "iopub.status.idle": "2020-09-15T20:40:00.496099Z",
     "shell.execute_reply": "2020-09-15T20:40:00.496590Z"
    }
   },
   "outputs": [
    {
     "data": {
      "text/html": [
       "<div style='font-size:1.5rem;'><b>Table 1</b>: <i>RNA-seq data</i>. The RNA-seq data contains a row per gene and a column per sample. The column indices are unique GTEx sample_ids, while the row indices are Entrez gene symbols. </div>"
      ],
      "text/plain": [
       "<IPython.core.display.HTML object>"
      ]
     },
     "metadata": {},
     "output_type": "display_data"
    },
    {
     "data": {
      "text/html": [
       "<div>\n",
       "<style scoped>\n",
       "    .dataframe tbody tr th:only-of-type {\n",
       "        vertical-align: middle;\n",
       "    }\n",
       "\n",
       "    .dataframe tbody tr th {\n",
       "        vertical-align: top;\n",
       "    }\n",
       "\n",
       "    .dataframe thead th {\n",
       "        text-align: right;\n",
       "    }\n",
       "</style>\n",
       "<table border=\"1\" class=\"dataframe\">\n",
       "  <thead>\n",
       "    <tr style=\"text-align: right;\">\n",
       "      <th></th>\n",
       "      <th>GTEX-OHPK-2326-SM-3MJH2</th>\n",
       "      <th>GTEX-PLZ4-2326-SM-EYYV5</th>\n",
       "      <th>GTEX-S32W-1326-SM-4AD5Q</th>\n",
       "      <th>GTEX-S341-0826-SM-4AD73</th>\n",
       "      <th>GTEX-SE5C-0926-SM-4BRUF</th>\n",
       "      <th>GTEX-T5JW-0326-SM-4DM6J</th>\n",
       "      <th>GTEX-T6MO-1026-SM-4DM72</th>\n",
       "      <th>GTEX-TSE9-2326-SM-EZ6ME</th>\n",
       "      <th>GTEX-U3ZN-1126-SM-4DXUL</th>\n",
       "    </tr>\n",
       "    <tr>\n",
       "      <th>symbol</th>\n",
       "      <th></th>\n",
       "      <th></th>\n",
       "      <th></th>\n",
       "      <th></th>\n",
       "      <th></th>\n",
       "      <th></th>\n",
       "      <th></th>\n",
       "      <th></th>\n",
       "      <th></th>\n",
       "    </tr>\n",
       "  </thead>\n",
       "  <tbody>\n",
       "    <tr>\n",
       "      <th>A1BG</th>\n",
       "      <td>283</td>\n",
       "      <td>367</td>\n",
       "      <td>444</td>\n",
       "      <td>336</td>\n",
       "      <td>311</td>\n",
       "      <td>384</td>\n",
       "      <td>234</td>\n",
       "      <td>481</td>\n",
       "      <td>605</td>\n",
       "    </tr>\n",
       "    <tr>\n",
       "      <th>A1CF</th>\n",
       "      <td>2</td>\n",
       "      <td>6</td>\n",
       "      <td>10</td>\n",
       "      <td>5</td>\n",
       "      <td>0</td>\n",
       "      <td>12</td>\n",
       "      <td>1</td>\n",
       "      <td>6</td>\n",
       "      <td>5</td>\n",
       "    </tr>\n",
       "    <tr>\n",
       "      <th>A2M</th>\n",
       "      <td>153712</td>\n",
       "      <td>103829</td>\n",
       "      <td>37996</td>\n",
       "      <td>36182</td>\n",
       "      <td>69101</td>\n",
       "      <td>45683</td>\n",
       "      <td>31735</td>\n",
       "      <td>33313</td>\n",
       "      <td>11676</td>\n",
       "    </tr>\n",
       "    <tr>\n",
       "      <th>A2ML1</th>\n",
       "      <td>39</td>\n",
       "      <td>22</td>\n",
       "      <td>60</td>\n",
       "      <td>71</td>\n",
       "      <td>32</td>\n",
       "      <td>35</td>\n",
       "      <td>29</td>\n",
       "      <td>38</td>\n",
       "      <td>113</td>\n",
       "    </tr>\n",
       "    <tr>\n",
       "      <th>A3GALT2</th>\n",
       "      <td>19</td>\n",
       "      <td>1</td>\n",
       "      <td>0</td>\n",
       "      <td>9</td>\n",
       "      <td>12</td>\n",
       "      <td>10</td>\n",
       "      <td>4</td>\n",
       "      <td>6</td>\n",
       "      <td>1</td>\n",
       "    </tr>\n",
       "  </tbody>\n",
       "</table>\n",
       "</div>"
      ],
      "text/plain": [
       "         GTEX-OHPK-2326-SM-3MJH2  GTEX-PLZ4-2326-SM-EYYV5  \\\n",
       "symbol                                                      \n",
       "A1BG                         283                      367   \n",
       "A1CF                           2                        6   \n",
       "A2M                       153712                   103829   \n",
       "A2ML1                         39                       22   \n",
       "A3GALT2                       19                        1   \n",
       "\n",
       "         GTEX-S32W-1326-SM-4AD5Q  GTEX-S341-0826-SM-4AD73  \\\n",
       "symbol                                                      \n",
       "A1BG                         444                      336   \n",
       "A1CF                          10                        5   \n",
       "A2M                        37996                    36182   \n",
       "A2ML1                         60                       71   \n",
       "A3GALT2                        0                        9   \n",
       "\n",
       "         GTEX-SE5C-0926-SM-4BRUF  GTEX-T5JW-0326-SM-4DM6J  \\\n",
       "symbol                                                      \n",
       "A1BG                         311                      384   \n",
       "A1CF                           0                       12   \n",
       "A2M                        69101                    45683   \n",
       "A2ML1                         32                       35   \n",
       "A3GALT2                       12                       10   \n",
       "\n",
       "         GTEX-T6MO-1026-SM-4DM72  GTEX-TSE9-2326-SM-EZ6ME  \\\n",
       "symbol                                                      \n",
       "A1BG                         234                      481   \n",
       "A1CF                           1                        6   \n",
       "A2M                        31735                    33313   \n",
       "A2ML1                         29                       38   \n",
       "A3GALT2                        4                        6   \n",
       "\n",
       "         GTEX-U3ZN-1126-SM-4DXUL  \n",
       "symbol                            \n",
       "A1BG                         605  \n",
       "A1CF                           5  \n",
       "A2M                        11676  \n",
       "A2ML1                        113  \n",
       "A3GALT2                        1  "
      ]
     },
     "metadata": {},
     "output_type": "display_data"
    }
   ],
   "source": [
    "figure_legend(\"Table 1\", \"RNA-seq data\", \"The RNA-seq data contains a row per gene and a column per sample. The column indices are unique GTEx sample_ids, while the row indices are Entrez gene symbols.\")\n",
    "display(df_data.head())"
   ]
  },
  {
   "cell_type": "markdown",
   "metadata": {},
   "source": [
    "### 1b. Metadata"
   ]
  },
  {
   "cell_type": "markdown",
   "metadata": {},
   "source": [
    "#### Phenotype Metadata\n",
    "Three categories of phenotypic attributes are collected and published for each donor on the GTEx portal.\n",
    "- Sex \n",
    "    - **1**=Male\n",
    "    - **2**=Female\n",
    "- Age\n",
    "- Hardy Scale Death Classification \n",
    "    - **0**=Ventilator case\n",
    "    - **1**=Fast and violent death\n",
    "    - **2**=Fast death from natural causes\n",
    "    - **3**=Intermediate death\n",
    "    - **4**=Slow death\n",
    "    \n",
    "During preprocessing, the sex and Hardy Scale classifications were re-coded as strings, to increase readability. "
   ]
  },
  {
   "cell_type": "markdown",
   "metadata": {},
   "source": [
    "#### Sample Metadata\n",
    "There are also 62 different sample attributes recorded for each sample, which are described more in-depth [in this Excel spreadsheet](https://storage.googleapis.com/gtex_analysis_v8/annotations/GTEx_Analysis_v8_Annotations_SampleAttributesDD.xlsx). Since not all categories have unique values across all samples, any metadata categories with less than 2 unique values across all samples are removed. On the other hand, categories which have a unique value for every sample aren't very helpful either, so those are removed as well. "
   ]
  },
  {
   "cell_type": "code",
   "execution_count": 9,
   "metadata": {},
   "outputs": [],
   "source": [
    "drop_cols = []\n",
    "for (col, items) in df_metadata.iteritems():\n",
    "    uniq_vals = len(items.unique()) > 1\n",
    "    less_than_total = len(items.unique()) < df_metadata.shape[0]\n",
    "    if not (uniq_vals and less_than_total):\n",
    "        drop_cols.append(col)\n",
    "df_metadata = df_metadata.drop(columns=drop_cols)"
   ]
  },
  {
   "cell_type": "markdown",
   "metadata": {},
   "source": [
    "#### Combined Metadata\n",
    "In order to gain a more holistic understanding of each sample and the individual from whom it was obtained, the sample and donor metadata were combined during preprocessing by mapping each sample ID from the sample metadata to the matching donor ID in the phenotype metadata, and then prepending the associated phenotype values to the sample metadata dataframe."
   ]
  },
  {
   "cell_type": "code",
   "execution_count": 10,
   "metadata": {},
   "outputs": [
    {
     "data": {
      "text/html": [
       "<div style='font-size:1.5rem;'><b>Table 3</b>: <i>Combined metadata</i>. The column indices refer to relevant sample and donor metadata categories, while the row indices are unique GTEx sample IDs corresponding to the columns of the RNA-seq data table. Note that categories with too few or too many unique values were removed in a previous step, causing the number of columns to be less than 65. </div>"
      ],
      "text/plain": [
       "<IPython.core.display.HTML object>"
      ]
     },
     "metadata": {},
     "output_type": "display_data"
    },
    {
     "data": {
      "text/html": [
       "<div>\n",
       "<style scoped>\n",
       "    .dataframe tbody tr th:only-of-type {\n",
       "        vertical-align: middle;\n",
       "    }\n",
       "\n",
       "    .dataframe tbody tr th {\n",
       "        vertical-align: top;\n",
       "    }\n",
       "\n",
       "    .dataframe thead th {\n",
       "        text-align: right;\n",
       "    }\n",
       "</style>\n",
       "<table border=\"1\" class=\"dataframe\">\n",
       "  <thead>\n",
       "    <tr style=\"text-align: right;\">\n",
       "      <th></th>\n",
       "      <th>age</th>\n",
       "      <th>dthhrdy</th>\n",
       "      <th>autolysis_score</th>\n",
       "      <th>bss_site</th>\n",
       "      <th>gtype_batch_id</th>\n",
       "      <th>gtype_batch_date</th>\n",
       "      <th>frag_len_std</th>\n",
       "      <th>end2_antisense</th>\n",
       "    </tr>\n",
       "    <tr>\n",
       "      <th>sample_id</th>\n",
       "      <th></th>\n",
       "      <th></th>\n",
       "      <th></th>\n",
       "      <th></th>\n",
       "      <th></th>\n",
       "      <th></th>\n",
       "      <th></th>\n",
       "      <th></th>\n",
       "    </tr>\n",
       "  </thead>\n",
       "  <tbody>\n",
       "    <tr>\n",
       "      <th>GTEX-OHPK-2326-SM-3MJH2</th>\n",
       "      <td>50-59</td>\n",
       "      <td>Ventilator</td>\n",
       "      <td>1.0</td>\n",
       "      <td>B1</td>\n",
       "      <td>LCSET-2269</td>\n",
       "      <td>11/19/2012</td>\n",
       "      <td>280.0</td>\n",
       "      <td>22400000.0</td>\n",
       "    </tr>\n",
       "    <tr>\n",
       "      <th>GTEX-PLZ4-2326-SM-EYYV5</th>\n",
       "      <td>50-59</td>\n",
       "      <td>NaN</td>\n",
       "      <td>3.0</td>\n",
       "      <td>C1</td>\n",
       "      <td>LCSET-10978</td>\n",
       "      <td>5/28/2017</td>\n",
       "      <td>168.0</td>\n",
       "      <td>16800000.0</td>\n",
       "    </tr>\n",
       "    <tr>\n",
       "      <th>GTEX-S32W-1326-SM-4AD5Q</th>\n",
       "      <td>50-59</td>\n",
       "      <td>Ventilator</td>\n",
       "      <td>1.0</td>\n",
       "      <td>B1</td>\n",
       "      <td>LCSET-3098</td>\n",
       "      <td>5/14/2013</td>\n",
       "      <td>121.0</td>\n",
       "      <td>13100000.0</td>\n",
       "    </tr>\n",
       "    <tr>\n",
       "      <th>GTEX-S341-0826-SM-4AD73</th>\n",
       "      <td>40-49</td>\n",
       "      <td>Ventilator</td>\n",
       "      <td>0.0</td>\n",
       "      <td>B1</td>\n",
       "      <td>LCSET-3098</td>\n",
       "      <td>5/14/2013</td>\n",
       "      <td>161.0</td>\n",
       "      <td>15500000.0</td>\n",
       "    </tr>\n",
       "    <tr>\n",
       "      <th>GTEX-SE5C-0926-SM-4BRUF</th>\n",
       "      <td>40-49</td>\n",
       "      <td>Ventilator</td>\n",
       "      <td>0.0</td>\n",
       "      <td>B1</td>\n",
       "      <td>LCSET-3152</td>\n",
       "      <td>5/27/2013</td>\n",
       "      <td>118.0</td>\n",
       "      <td>12200000.0</td>\n",
       "    </tr>\n",
       "  </tbody>\n",
       "</table>\n",
       "</div>"
      ],
      "text/plain": [
       "                           age     dthhrdy  autolysis_score bss_site  \\\n",
       "sample_id                                                              \n",
       "GTEX-OHPK-2326-SM-3MJH2  50-59  Ventilator              1.0       B1   \n",
       "GTEX-PLZ4-2326-SM-EYYV5  50-59         NaN              3.0       C1   \n",
       "GTEX-S32W-1326-SM-4AD5Q  50-59  Ventilator              1.0       B1   \n",
       "GTEX-S341-0826-SM-4AD73  40-49  Ventilator              0.0       B1   \n",
       "GTEX-SE5C-0926-SM-4BRUF  40-49  Ventilator              0.0       B1   \n",
       "\n",
       "                        gtype_batch_id gtype_batch_date  frag_len_std  \\\n",
       "sample_id                                                               \n",
       "GTEX-OHPK-2326-SM-3MJH2     LCSET-2269       11/19/2012         280.0   \n",
       "GTEX-PLZ4-2326-SM-EYYV5    LCSET-10978        5/28/2017         168.0   \n",
       "GTEX-S32W-1326-SM-4AD5Q     LCSET-3098        5/14/2013         121.0   \n",
       "GTEX-S341-0826-SM-4AD73     LCSET-3098        5/14/2013         161.0   \n",
       "GTEX-SE5C-0926-SM-4BRUF     LCSET-3152        5/27/2013         118.0   \n",
       "\n",
       "                         end2_antisense  \n",
       "sample_id                                \n",
       "GTEX-OHPK-2326-SM-3MJH2      22400000.0  \n",
       "GTEX-PLZ4-2326-SM-EYYV5      16800000.0  \n",
       "GTEX-S32W-1326-SM-4AD5Q      13100000.0  \n",
       "GTEX-S341-0826-SM-4AD73      15500000.0  \n",
       "GTEX-SE5C-0926-SM-4BRUF      12200000.0  "
      ]
     },
     "metadata": {},
     "output_type": "display_data"
    }
   ],
   "source": [
    "figure_legend(\"Table 3\",\"Combined metadata\", \"The column indices refer to relevant sample and donor metadata categories, while the row indices are unique GTEx sample IDs corresponding to the columns of the RNA-seq data table. Note that categories with too few or too many unique values were removed in a previous step, causing the number of columns to be less than 65.\")\n",
    "display(df_metadata.head())"
   ]
  },
  {
   "cell_type": "markdown",
   "metadata": {},
   "source": [
    "Listed below are all the metadata categories with at least two unique values across the samples, but less than the total number of samples. These will be relevant during the dimensionality reduction and clustering steps."
   ]
  },
  {
   "cell_type": "code",
   "execution_count": 11,
   "metadata": {},
   "outputs": [
    {
     "name": "stdout",
     "output_type": "stream",
     "text": [
      "['age' 'dthhrdy' 'autolysis_score' 'bss_site' 'gtype_batch_id'\n",
      " 'gtype_batch_date' 'frag_len_std' 'end2_antisense']\n"
     ]
    }
   ],
   "source": [
    "features = df_metadata.columns.values\n",
    "print(features)"
   ]
  },
  {
   "cell_type": "markdown",
   "metadata": {},
   "source": [
    "## 2. Normalize Data\n",
    "Given the highly variable nature of expression level between different genes, it is necessary to normalize the read counts before proceeding."
   ]
  },
  {
   "cell_type": "code",
   "execution_count": 12,
   "metadata": {
    "execution": {
     "iopub.execute_input": "2020-09-15T20:40:00.729384Z",
     "iopub.status.busy": "2020-09-15T20:40:00.728528Z",
     "iopub.status.idle": "2020-09-15T20:40:01.751653Z",
     "shell.execute_reply": "2020-09-15T20:40:01.752236Z"
    },
    "scrolled": true
   },
   "outputs": [],
   "source": [
    "# Data size stats\n",
    "df_library_size = pd.DataFrame(\n",
    "    {\n",
    "        'n_reads': df_data[df_data > 0].count(),\n",
    "        'log_n_reads': np.log2(df_data[df_data > 0].count() + 1),\n",
    "        'n_expressed_genes': df_data.sum(),\n",
    "    }).sort_values('n_reads', ascending=False)\n",
    "\n",
    "df_library_size.index.name = \"sample_id\""
   ]
  },
  {
   "cell_type": "code",
   "execution_count": 13,
   "metadata": {},
   "outputs": [
    {
     "data": {
      "text/html": [
       "<div style='font-size:1.5rem;'><b>Table 4</b>: <i>Library size</i>. By default, the first five entries are shown. A gene read is counted toward n_reads for a single sample if its value is greater than 0. </div>"
      ],
      "text/plain": [
       "<IPython.core.display.HTML object>"
      ]
     },
     "metadata": {},
     "output_type": "display_data"
    },
    {
     "data": {
      "text/html": [
       "<div>\n",
       "<style scoped>\n",
       "    .dataframe tbody tr th:only-of-type {\n",
       "        vertical-align: middle;\n",
       "    }\n",
       "\n",
       "    .dataframe tbody tr th {\n",
       "        vertical-align: top;\n",
       "    }\n",
       "\n",
       "    .dataframe thead th {\n",
       "        text-align: right;\n",
       "    }\n",
       "</style>\n",
       "<table border=\"1\" class=\"dataframe\">\n",
       "  <thead>\n",
       "    <tr style=\"text-align: right;\">\n",
       "      <th></th>\n",
       "      <th>n_reads</th>\n",
       "      <th>log_n_reads</th>\n",
       "      <th>n_expressed_genes</th>\n",
       "    </tr>\n",
       "    <tr>\n",
       "      <th>sample_id</th>\n",
       "      <th></th>\n",
       "      <th></th>\n",
       "      <th></th>\n",
       "    </tr>\n",
       "  </thead>\n",
       "  <tbody>\n",
       "    <tr>\n",
       "      <th>GTEX-S32W-1326-SM-4AD5Q</th>\n",
       "      <td>17189</td>\n",
       "      <td>14.069282</td>\n",
       "      <td>36149356</td>\n",
       "    </tr>\n",
       "    <tr>\n",
       "      <th>GTEX-S341-0826-SM-4AD73</th>\n",
       "      <td>17012</td>\n",
       "      <td>14.054350</td>\n",
       "      <td>48773818</td>\n",
       "    </tr>\n",
       "    <tr>\n",
       "      <th>GTEX-U3ZN-1126-SM-4DXUL</th>\n",
       "      <td>16844</td>\n",
       "      <td>14.040033</td>\n",
       "      <td>38839978</td>\n",
       "    </tr>\n",
       "    <tr>\n",
       "      <th>GTEX-T5JW-0326-SM-4DM6J</th>\n",
       "      <td>16671</td>\n",
       "      <td>14.025140</td>\n",
       "      <td>46497707</td>\n",
       "    </tr>\n",
       "    <tr>\n",
       "      <th>GTEX-OHPK-2326-SM-3MJH2</th>\n",
       "      <td>16632</td>\n",
       "      <td>14.021761</td>\n",
       "      <td>72706419</td>\n",
       "    </tr>\n",
       "  </tbody>\n",
       "</table>\n",
       "</div>"
      ],
      "text/plain": [
       "                         n_reads  log_n_reads  n_expressed_genes\n",
       "sample_id                                                       \n",
       "GTEX-S32W-1326-SM-4AD5Q    17189    14.069282           36149356\n",
       "GTEX-S341-0826-SM-4AD73    17012    14.054350           48773818\n",
       "GTEX-U3ZN-1126-SM-4DXUL    16844    14.040033           38839978\n",
       "GTEX-T5JW-0326-SM-4DM6J    16671    14.025140           46497707\n",
       "GTEX-OHPK-2326-SM-3MJH2    16632    14.021761           72706419"
      ]
     },
     "metadata": {},
     "output_type": "display_data"
    }
   ],
   "source": [
    "figure_legend(\"Table 4\",\"Library size\", \"By default, the first five entries are shown. A gene read is counted toward n_reads for a single sample if its value is greater than 0.\")\n",
    "display(df_library_size.head()) "
   ]
  },
  {
   "cell_type": "code",
   "execution_count": 14,
   "metadata": {},
   "outputs": [
    {
     "data": {
      "text/html": [
       "<div style='font-size:1.5rem;'><b>Figure 1</b>: <i>Library size distribution</i>.  </div>"
      ],
      "text/plain": [
       "<IPython.core.display.HTML object>"
      ]
     },
     "metadata": {},
     "output_type": "display_data"
    },
    {
     "data": {
      "image/png": "[encoded data removed]",
      "text/plain": [
       "<Figure size 432x288 with 1 Axes>"
      ]
     },
     "metadata": {
      "needs_background": "light"
     },
     "output_type": "display_data"
    }
   ],
   "source": [
    "figure_legend(\"Figure 1\",\"Library size distribution\")\n",
    "sns.distplot(df_library_size[\"n_reads\"]); plt.show()"
   ]
  },
  {
   "cell_type": "markdown",
   "metadata": {},
   "source": [
    "Two versions of the dataset are normalized: one with just the `top_n_genes` most variable genes and one with all genes. The former will be used to compute clusters after dimensionality reduction, and the latter to compute the characteristic direction (up or down) of each gene in a cluster. "
   ]
  },
  {
   "cell_type": "code",
   "execution_count": 15,
   "metadata": {
    "execution": {
     "iopub.execute_input": "2020-09-15T20:40:01.758513Z",
     "iopub.status.busy": "2020-09-15T20:40:01.757604Z",
     "iopub.status.idle": "2020-09-15T20:40:02.327583Z",
     "shell.execute_reply": "2020-09-15T20:40:02.328912Z"
    },
    "scrolled": true
   },
   "outputs": [],
   "source": [
    "# Normalization\n",
    "\n",
    "# maintain the unfiltered dataset to compute characteristic directions later\n",
    "df_data_norm_all_genes = df_data.copy()\n",
    "\n",
    "# take top_n_genes most variable rows\n",
    "df_data_norm = filter_by_var(df_data,top_n = top_n_genes)\n",
    "\n",
    "# compute log normalization of matrix\n",
    "df_data_norm = log2_normalize(df_data_norm)\n",
    "df_data_norm_all_genes = log2_normalize(df_data_norm_all_genes)\n",
    "\n",
    "# convert to zscores\n",
    "df_data_norm = zscore_normalize(df_data_norm)\n",
    "df_data_norm_all_genes = zscore_normalize(df_data_norm_all_genes)"
   ]
  },
  {
   "cell_type": "code",
   "execution_count": 16,
   "metadata": {
    "execution": {
     "iopub.execute_input": "2020-09-15T20:40:02.337907Z",
     "iopub.status.busy": "2020-09-15T20:40:02.333833Z",
     "iopub.status.idle": "2020-09-15T20:40:02.349390Z",
     "shell.execute_reply": "2020-09-15T20:40:02.350276Z"
    }
   },
   "outputs": [
    {
     "name": "stdout",
     "output_type": "stream",
     "text": [
      "Normalized dataset with all genes has shape  (18497, 9)\n",
      "Normalized dataset with 2500 most variable genes has shape  (2500, 9)\n"
     ]
    }
   ],
   "source": [
    "print(\"Normalized dataset with all genes has shape \",df_data_norm_all_genes.shape)\n",
    "print(f\"Normalized dataset with {top_n_genes} most variable genes has shape \", df_data_norm.shape)"
   ]
  },
  {
   "cell_type": "code",
   "execution_count": 17,
   "metadata": {
    "execution": {
     "iopub.execute_input": "2020-09-15T20:40:02.356761Z",
     "iopub.status.busy": "2020-09-15T20:40:02.353784Z",
     "iopub.status.idle": "2020-09-15T20:40:02.425548Z",
     "shell.execute_reply": "2020-09-15T20:40:02.426564Z"
    }
   },
   "outputs": [
    {
     "data": {
      "text/html": [
       "<div style='font-size:1.5rem;'><b>Table 5</b>: <i>Normalized RNA-seq data</i>. Counts are filtered for the <i>top_n_genes</i> most variable genes. A log transform and normalization is performed on the resultitng dataset, which is then converted to z-scores. </div>"
      ],
      "text/plain": [
       "<IPython.core.display.HTML object>"
      ]
     },
     "metadata": {},
     "output_type": "display_data"
    },
    {
     "data": {
      "text/html": [
       "<div>\n",
       "<style scoped>\n",
       "    .dataframe tbody tr th:only-of-type {\n",
       "        vertical-align: middle;\n",
       "    }\n",
       "\n",
       "    .dataframe tbody tr th {\n",
       "        vertical-align: top;\n",
       "    }\n",
       "\n",
       "    .dataframe thead th {\n",
       "        text-align: right;\n",
       "    }\n",
       "</style>\n",
       "<table border=\"1\" class=\"dataframe\">\n",
       "  <thead>\n",
       "    <tr style=\"text-align: right;\">\n",
       "      <th></th>\n",
       "      <th>GTEX-OHPK-2326-SM-3MJH2</th>\n",
       "      <th>GTEX-PLZ4-2326-SM-EYYV5</th>\n",
       "      <th>GTEX-S32W-1326-SM-4AD5Q</th>\n",
       "      <th>GTEX-S341-0826-SM-4AD73</th>\n",
       "      <th>GTEX-SE5C-0926-SM-4BRUF</th>\n",
       "      <th>GTEX-T5JW-0326-SM-4DM6J</th>\n",
       "      <th>GTEX-T6MO-1026-SM-4DM72</th>\n",
       "      <th>GTEX-TSE9-2326-SM-EZ6ME</th>\n",
       "      <th>GTEX-U3ZN-1126-SM-4DXUL</th>\n",
       "    </tr>\n",
       "    <tr>\n",
       "      <th>symbol</th>\n",
       "      <th></th>\n",
       "      <th></th>\n",
       "      <th></th>\n",
       "      <th></th>\n",
       "      <th></th>\n",
       "      <th></th>\n",
       "      <th></th>\n",
       "      <th></th>\n",
       "      <th></th>\n",
       "    </tr>\n",
       "  </thead>\n",
       "  <tbody>\n",
       "    <tr>\n",
       "      <th>FOS</th>\n",
       "      <td>2.070941</td>\n",
       "      <td>0.371728</td>\n",
       "      <td>2.677332</td>\n",
       "      <td>3.739764</td>\n",
       "      <td>1.883076</td>\n",
       "      <td>2.198334</td>\n",
       "      <td>2.939181</td>\n",
       "      <td>0.279571</td>\n",
       "      <td>-0.602121</td>\n",
       "    </tr>\n",
       "    <tr>\n",
       "      <th>FLNA</th>\n",
       "      <td>2.633929</td>\n",
       "      <td>2.636735</td>\n",
       "      <td>3.771225</td>\n",
       "      <td>2.687298</td>\n",
       "      <td>3.317943</td>\n",
       "      <td>3.779925</td>\n",
       "      <td>3.519796</td>\n",
       "      <td>2.855312</td>\n",
       "      <td>2.500584</td>\n",
       "    </tr>\n",
       "    <tr>\n",
       "      <th>EGR1</th>\n",
       "      <td>2.088101</td>\n",
       "      <td>0.049828</td>\n",
       "      <td>0.500507</td>\n",
       "      <td>3.625950</td>\n",
       "      <td>1.930141</td>\n",
       "      <td>2.178901</td>\n",
       "      <td>3.117731</td>\n",
       "      <td>-0.165715</td>\n",
       "      <td>-1.314875</td>\n",
       "    </tr>\n",
       "    <tr>\n",
       "      <th>IGFBP5</th>\n",
       "      <td>2.190456</td>\n",
       "      <td>2.319100</td>\n",
       "      <td>3.569066</td>\n",
       "      <td>3.369971</td>\n",
       "      <td>2.604604</td>\n",
       "      <td>3.904624</td>\n",
       "      <td>3.172689</td>\n",
       "      <td>3.613748</td>\n",
       "      <td>2.266554</td>\n",
       "    </tr>\n",
       "    <tr>\n",
       "      <th>EEF1A1</th>\n",
       "      <td>2.496552</td>\n",
       "      <td>2.893351</td>\n",
       "      <td>4.228796</td>\n",
       "      <td>3.171866</td>\n",
       "      <td>3.152809</td>\n",
       "      <td>3.329114</td>\n",
       "      <td>3.220814</td>\n",
       "      <td>3.746169</td>\n",
       "      <td>3.253363</td>\n",
       "    </tr>\n",
       "    <tr>\n",
       "      <th>...</th>\n",
       "      <td>...</td>\n",
       "      <td>...</td>\n",
       "      <td>...</td>\n",
       "      <td>...</td>\n",
       "      <td>...</td>\n",
       "      <td>...</td>\n",
       "      <td>...</td>\n",
       "      <td>...</td>\n",
       "      <td>...</td>\n",
       "    </tr>\n",
       "    <tr>\n",
       "      <th>NPC2</th>\n",
       "      <td>-0.049470</td>\n",
       "      <td>0.025857</td>\n",
       "      <td>-0.636502</td>\n",
       "      <td>-0.115155</td>\n",
       "      <td>0.297196</td>\n",
       "      <td>-0.611275</td>\n",
       "      <td>-0.357140</td>\n",
       "      <td>-0.232315</td>\n",
       "      <td>-0.196704</td>\n",
       "    </tr>\n",
       "    <tr>\n",
       "      <th>EBF1</th>\n",
       "      <td>-0.142388</td>\n",
       "      <td>-0.188127</td>\n",
       "      <td>-1.247031</td>\n",
       "      <td>-0.488045</td>\n",
       "      <td>-0.848969</td>\n",
       "      <td>-0.665126</td>\n",
       "      <td>-0.788398</td>\n",
       "      <td>-0.540642</td>\n",
       "      <td>-1.688253</td>\n",
       "    </tr>\n",
       "    <tr>\n",
       "      <th>UBXN6</th>\n",
       "      <td>0.068446</td>\n",
       "      <td>0.146404</td>\n",
       "      <td>0.058600</td>\n",
       "      <td>0.145784</td>\n",
       "      <td>-0.042877</td>\n",
       "      <td>0.071263</td>\n",
       "      <td>0.049018</td>\n",
       "      <td>0.107415</td>\n",
       "      <td>0.339687</td>\n",
       "    </tr>\n",
       "    <tr>\n",
       "      <th>FYCO1</th>\n",
       "      <td>0.002738</td>\n",
       "      <td>0.005237</td>\n",
       "      <td>-0.695007</td>\n",
       "      <td>-0.242850</td>\n",
       "      <td>-0.490243</td>\n",
       "      <td>-0.426751</td>\n",
       "      <td>-0.221243</td>\n",
       "      <td>-0.369823</td>\n",
       "      <td>-0.348357</td>\n",
       "    </tr>\n",
       "    <tr>\n",
       "      <th>FAM3A</th>\n",
       "      <td>-0.296204</td>\n",
       "      <td>-0.257899</td>\n",
       "      <td>-0.557851</td>\n",
       "      <td>-0.406261</td>\n",
       "      <td>-0.910301</td>\n",
       "      <td>-0.627713</td>\n",
       "      <td>-0.548698</td>\n",
       "      <td>-0.143019</td>\n",
       "      <td>-0.425150</td>\n",
       "    </tr>\n",
       "  </tbody>\n",
       "</table>\n",
       "<p>2500 rows × 9 columns</p>\n",
       "</div>"
      ],
      "text/plain": [
       "        GTEX-OHPK-2326-SM-3MJH2  GTEX-PLZ4-2326-SM-EYYV5  \\\n",
       "symbol                                                     \n",
       "FOS                    2.070941                 0.371728   \n",
       "FLNA                   2.633929                 2.636735   \n",
       "EGR1                   2.088101                 0.049828   \n",
       "IGFBP5                 2.190456                 2.319100   \n",
       "EEF1A1                 2.496552                 2.893351   \n",
       "...                         ...                      ...   \n",
       "NPC2                  -0.049470                 0.025857   \n",
       "EBF1                  -0.142388                -0.188127   \n",
       "UBXN6                  0.068446                 0.146404   \n",
       "FYCO1                  0.002738                 0.005237   \n",
       "FAM3A                 -0.296204                -0.257899   \n",
       "\n",
       "        GTEX-S32W-1326-SM-4AD5Q  GTEX-S341-0826-SM-4AD73  \\\n",
       "symbol                                                     \n",
       "FOS                    2.677332                 3.739764   \n",
       "FLNA                   3.771225                 2.687298   \n",
       "EGR1                   0.500507                 3.625950   \n",
       "IGFBP5                 3.569066                 3.369971   \n",
       "EEF1A1                 4.228796                 3.171866   \n",
       "...                         ...                      ...   \n",
       "NPC2                  -0.636502                -0.115155   \n",
       "EBF1                  -1.247031                -0.488045   \n",
       "UBXN6                  0.058600                 0.145784   \n",
       "FYCO1                 -0.695007                -0.242850   \n",
       "FAM3A                 -0.557851                -0.406261   \n",
       "\n",
       "        GTEX-SE5C-0926-SM-4BRUF  GTEX-T5JW-0326-SM-4DM6J  \\\n",
       "symbol                                                     \n",
       "FOS                    1.883076                 2.198334   \n",
       "FLNA                   3.317943                 3.779925   \n",
       "EGR1                   1.930141                 2.178901   \n",
       "IGFBP5                 2.604604                 3.904624   \n",
       "EEF1A1                 3.152809                 3.329114   \n",
       "...                         ...                      ...   \n",
       "NPC2                   0.297196                -0.611275   \n",
       "EBF1                  -0.848969                -0.665126   \n",
       "UBXN6                 -0.042877                 0.071263   \n",
       "FYCO1                 -0.490243                -0.426751   \n",
       "FAM3A                 -0.910301                -0.627713   \n",
       "\n",
       "        GTEX-T6MO-1026-SM-4DM72  GTEX-TSE9-2326-SM-EZ6ME  \\\n",
       "symbol                                                     \n",
       "FOS                    2.939181                 0.279571   \n",
       "FLNA                   3.519796                 2.855312   \n",
       "EGR1                   3.117731                -0.165715   \n",
       "IGFBP5                 3.172689                 3.613748   \n",
       "EEF1A1                 3.220814                 3.746169   \n",
       "...                         ...                      ...   \n",
       "NPC2                  -0.357140                -0.232315   \n",
       "EBF1                  -0.788398                -0.540642   \n",
       "UBXN6                  0.049018                 0.107415   \n",
       "FYCO1                 -0.221243                -0.369823   \n",
       "FAM3A                 -0.548698                -0.143019   \n",
       "\n",
       "        GTEX-U3ZN-1126-SM-4DXUL  \n",
       "symbol                           \n",
       "FOS                   -0.602121  \n",
       "FLNA                   2.500584  \n",
       "EGR1                  -1.314875  \n",
       "IGFBP5                 2.266554  \n",
       "EEF1A1                 3.253363  \n",
       "...                         ...  \n",
       "NPC2                  -0.196704  \n",
       "EBF1                  -1.688253  \n",
       "UBXN6                  0.339687  \n",
       "FYCO1                 -0.348357  \n",
       "FAM3A                 -0.425150  \n",
       "\n",
       "[2500 rows x 9 columns]"
      ]
     },
     "metadata": {},
     "output_type": "display_data"
    }
   ],
   "source": [
    "figure_legend(\"Table 5\",\"Normalized RNA-seq data\", \"Counts are filtered for the <i>top_n_genes</i> most variable genes. A log transform and normalization is performed on the resultitng dataset, which is then converted to z-scores.\")\n",
    "display(df_data_norm)"
   ]
  },
  {
   "cell_type": "code",
   "execution_count": 18,
   "metadata": {
    "execution": {
     "iopub.execute_input": "2020-09-15T20:40:02.431127Z",
     "iopub.status.busy": "2020-09-15T20:40:02.429662Z",
     "iopub.status.idle": "2020-09-15T20:40:03.578273Z",
     "shell.execute_reply": "2020-09-15T20:40:03.578957Z"
    }
   },
   "outputs": [
    {
     "data": {
      "image/png": "[encoded data removed]",
      "text/plain": [
       "<Figure size 432x288 with 1 Axes>"
      ]
     },
     "metadata": {
      "needs_background": "light"
     },
     "output_type": "display_data"
    },
    {
     "data": {
      "text/html": [
       "<div style='font-size:1.5rem;'><b>Figure 2</b>: <i>Sample gene expression distibution for FOS</i>. In this dataset, FOS is the most variably expressed across all samples. </div>"
      ],
      "text/plain": [
       "<IPython.core.display.HTML object>"
      ]
     },
     "metadata": {},
     "output_type": "display_data"
    },
    {
     "data": {
      "image/png": "[encoded data removed]",
      "text/plain": [
       "<Figure size 432x288 with 1 Axes>"
      ]
     },
     "metadata": {
      "needs_background": "light"
     },
     "output_type": "display_data"
    },
    {
     "data": {
      "text/html": [
       "<div style='font-size:1.5rem;'><b>Figure 3</b>: <i>Sample gene expression distibution for FAM3A</i>. In this dataset, FAM3A is the least variably expressed across all samples among the 2500 most variably expressed genes. </div>"
      ],
      "text/plain": [
       "<IPython.core.display.HTML object>"
      ]
     },
     "metadata": {},
     "output_type": "display_data"
    },
    {
     "data": {
      "image/png": "[encoded data removed]",
      "text/plain": [
       "<Figure size 432x288 with 1 Axes>"
      ]
     },
     "metadata": {
      "needs_background": "light"
     },
     "output_type": "display_data"
    },
    {
     "data": {
      "text/html": [
       "<div style='font-size:1.5rem;'><b>Figure 4</b>: <i>Sample individual RNA-seq profile distribution</i>.  </div>"
      ],
      "text/plain": [
       "<IPython.core.display.HTML object>"
      ]
     },
     "metadata": {},
     "output_type": "display_data"
    }
   ],
   "source": [
    "# plot the first gene distribution\n",
    "gene = df_data_norm.index.values[0]\n",
    "sns.distplot(df_data_norm.iloc[0, :]); plt.show()\n",
    "figure_legend(\"Figure 2\",f\"Sample gene expression distibution for {gene}\", f\"In this dataset, {gene} is the most variably expressed across all samples.\")\n",
    "\n",
    "# plot the last gene distribution\n",
    "gene = df_data_norm.index.values[-1]\n",
    "sns.distplot(df_data_norm.iloc[-1, :]); plt.show()\n",
    "figure_legend(\"Figure 3\",f\"Sample gene expression distibution for {gene}\", f\"In this dataset, {gene} is the least variably expressed across all samples among the 2500 most variably expressed genes.\")\n",
    "\n",
    "# plot a single RNA seq profile distribution\n",
    "sns.distplot(df_data_norm.iloc[:, 0]); plt.show()\n",
    "figure_legend(\"Figure 4\",\"Sample individual RNA-seq profile distribution\")"
   ]
  },
  {
   "cell_type": "markdown",
   "metadata": {},
   "source": [
    "## 3. Reduce Data Dimensionality"
   ]
  },
  {
   "cell_type": "markdown",
   "metadata": {},
   "source": [
    "Now that the data has been loaded and normalized, the most variable genes across the dataset can be identified and visualized with hierachical clustering and heatmaps. Dimensionality reduction facilitates the differentiation of the data in a more efficient manner by reducing the number of attributes to be considered. "
   ]
  },
  {
   "cell_type": "code",
   "execution_count": 19,
   "metadata": {
    "execution": {
     "iopub.execute_input": "2020-09-15T20:40:03.588192Z",
     "iopub.status.busy": "2020-09-15T20:40:03.583008Z",
     "iopub.status.idle": "2020-09-15T20:40:07.374114Z",
     "shell.execute_reply": "2020-09-15T20:40:07.373318Z"
    },
    "scrolled": true
   },
   "outputs": [
    {
     "data": {
      "image/png": "[encoded data removed]",
      "text/plain": [
       "<Figure size 720x720 with 4 Axes>"
      ]
     },
     "metadata": {
      "needs_background": "light"
     },
     "output_type": "display_data"
    },
    {
     "data": {
      "text/html": [
       "<div style='font-size:1.5rem;'><b>Figure 5</b>: <i>Heatmap of normalized expression for top 800 most variable genes</i>. This initial heatmap considers only the top most variable genes across the entire dataset, rather than the most differentially expressed genes among potential clusters. As such, there may seem to be a lot of noise preventing us from seeing clear clusters. This will be amended in a later heatmap. </div>"
      ],
      "text/plain": [
       "<IPython.core.display.HTML object>"
      ]
     },
     "metadata": {},
     "output_type": "display_data"
    }
   ],
   "source": [
    "# Normalization\n",
    "# take top 800 most variable rows\n",
    "\n",
    "# the \"i\" in the variable here stands for \"initial\", since we'll do a different method \n",
    "# for selecting genes for a heatmap later\n",
    "df_data_norm_heatmap_i = filter_by_var(df_data,top_n=800)\n",
    "\n",
    "# compute log normalization of matrix\n",
    "df_data_norm_heatmap_i = log2_normalize(df_data_norm_heatmap_i)\n",
    "\n",
    "# convert to zscores\n",
    "df_data_norm_heatmap_i = zscore_normalize(df_data_norm_heatmap_i) \n",
    "\n",
    "# Plot heatmap\n",
    "sns.clustermap(df_data_norm_heatmap_i,xticklabels=False); plt.show()\n",
    "figure_legend(\"Figure 5\",\"Heatmap of normalized expression for top 800 most variable genes\", \"This initial heatmap considers only the top most variable genes across the entire dataset, rather than the most differentially expressed genes among potential clusters. As such, there may seem to be a lot of noise preventing us from seeing clear clusters. This will be amended in a later heatmap.\")\n"
   ]
  },
  {
   "cell_type": "markdown",
   "metadata": {},
   "source": [
    "### 4a. Principle Component Analysis \n",
    "PCA is used first to reduce the dimensionality of the dataset, while still maintaining most of the variability."
   ]
  },
  {
   "cell_type": "code",
   "execution_count": 20,
   "metadata": {
    "execution": {
     "iopub.execute_input": "2020-09-15T20:40:07.382734Z",
     "iopub.status.busy": "2020-09-15T20:40:07.381601Z",
     "iopub.status.idle": "2020-09-15T20:40:08.245238Z",
     "shell.execute_reply": "2020-09-15T20:40:08.244125Z"
    }
   },
   "outputs": [],
   "source": [
    "# PCA\n",
    "data_norm_pca = PCA(\n",
    "  random_state=42,\n",
    ")\n",
    "\n",
    "data_norm_pca.fit(df_data_norm.values.T)\n",
    "\n",
    "df_data_norm_pca = pd.DataFrame(\n",
    "    data_norm_pca.transform(df_data_norm.values.T),\n",
    "    index=df_data_norm.T.index\n",
    ")\n",
    "\n",
    "df_data_norm_pca.columns = [\n",
    "    f'PCA-{c}' # ({r:.3f})'\n",
    "    for c, r in zip(df_data_norm_pca.columns, data_norm_pca.explained_variance_ratio_)\n",
    "]\n",
    "\n",
    "df_data_norm_pca.index.name = \"sample_id\""
   ]
  },
  {
   "cell_type": "code",
   "execution_count": 21,
   "metadata": {},
   "outputs": [
    {
     "data": {
      "text/html": [
       "<div style='font-size:1.5rem;'><b>Table 6</b>: <i>Principle components of RNA-seq data</i>. The top principle components are the projections of each datapoint onto the axes along which there is the most variation in the dataset. </div>"
      ],
      "text/plain": [
       "<IPython.core.display.HTML object>"
      ]
     },
     "metadata": {},
     "output_type": "display_data"
    },
    {
     "data": {
      "text/html": [
       "<div>\n",
       "<style scoped>\n",
       "    .dataframe tbody tr th:only-of-type {\n",
       "        vertical-align: middle;\n",
       "    }\n",
       "\n",
       "    .dataframe tbody tr th {\n",
       "        vertical-align: top;\n",
       "    }\n",
       "\n",
       "    .dataframe thead th {\n",
       "        text-align: right;\n",
       "    }\n",
       "</style>\n",
       "<table border=\"1\" class=\"dataframe\">\n",
       "  <thead>\n",
       "    <tr style=\"text-align: right;\">\n",
       "      <th></th>\n",
       "      <th>PCA-0</th>\n",
       "      <th>PCA-1</th>\n",
       "      <th>PCA-2</th>\n",
       "      <th>PCA-3</th>\n",
       "      <th>PCA-4</th>\n",
       "      <th>PCA-5</th>\n",
       "      <th>PCA-6</th>\n",
       "      <th>PCA-7</th>\n",
       "      <th>PCA-8</th>\n",
       "    </tr>\n",
       "    <tr>\n",
       "      <th>sample_id</th>\n",
       "      <th></th>\n",
       "      <th></th>\n",
       "      <th></th>\n",
       "      <th></th>\n",
       "      <th></th>\n",
       "      <th></th>\n",
       "      <th></th>\n",
       "      <th></th>\n",
       "      <th></th>\n",
       "    </tr>\n",
       "  </thead>\n",
       "  <tbody>\n",
       "    <tr>\n",
       "      <th>GTEX-OHPK-2326-SM-3MJH2</th>\n",
       "      <td>-20.727811</td>\n",
       "      <td>-4.397038</td>\n",
       "      <td>-10.440733</td>\n",
       "      <td>-0.160979</td>\n",
       "      <td>-0.621438</td>\n",
       "      <td>4.135234</td>\n",
       "      <td>2.425296</td>\n",
       "      <td>6.281069</td>\n",
       "      <td>6.650930e-15</td>\n",
       "    </tr>\n",
       "    <tr>\n",
       "      <th>GTEX-PLZ4-2326-SM-EYYV5</th>\n",
       "      <td>-14.541225</td>\n",
       "      <td>-11.138146</td>\n",
       "      <td>-3.897117</td>\n",
       "      <td>0.353360</td>\n",
       "      <td>-8.325497</td>\n",
       "      <td>2.277269</td>\n",
       "      <td>-1.439913</td>\n",
       "      <td>-5.884934</td>\n",
       "      <td>9.860168e-15</td>\n",
       "    </tr>\n",
       "    <tr>\n",
       "      <th>GTEX-S32W-1326-SM-4AD5Q</th>\n",
       "      <td>28.066255</td>\n",
       "      <td>7.376117</td>\n",
       "      <td>7.613467</td>\n",
       "      <td>2.273177</td>\n",
       "      <td>-1.862367</td>\n",
       "      <td>8.641618</td>\n",
       "      <td>3.090182</td>\n",
       "      <td>-0.356942</td>\n",
       "      <td>1.625436e-15</td>\n",
       "    </tr>\n",
       "    <tr>\n",
       "      <th>GTEX-S341-0826-SM-4AD73</th>\n",
       "      <td>-14.095958</td>\n",
       "      <td>-0.846277</td>\n",
       "      <td>1.717609</td>\n",
       "      <td>-6.557141</td>\n",
       "      <td>11.929778</td>\n",
       "      <td>3.382750</td>\n",
       "      <td>-3.346331</td>\n",
       "      <td>-2.219454</td>\n",
       "      <td>4.324666e-15</td>\n",
       "    </tr>\n",
       "    <tr>\n",
       "      <th>GTEX-SE5C-0926-SM-4BRUF</th>\n",
       "      <td>-14.003607</td>\n",
       "      <td>18.949666</td>\n",
       "      <td>-0.429333</td>\n",
       "      <td>-9.017997</td>\n",
       "      <td>-4.722975</td>\n",
       "      <td>-3.929838</td>\n",
       "      <td>0.821213</td>\n",
       "      <td>-0.424060</td>\n",
       "      <td>4.152928e-15</td>\n",
       "    </tr>\n",
       "  </tbody>\n",
       "</table>\n",
       "</div>"
      ],
      "text/plain": [
       "                             PCA-0      PCA-1      PCA-2     PCA-3      PCA-4  \\\n",
       "sample_id                                                                       \n",
       "GTEX-OHPK-2326-SM-3MJH2 -20.727811  -4.397038 -10.440733 -0.160979  -0.621438   \n",
       "GTEX-PLZ4-2326-SM-EYYV5 -14.541225 -11.138146  -3.897117  0.353360  -8.325497   \n",
       "GTEX-S32W-1326-SM-4AD5Q  28.066255   7.376117   7.613467  2.273177  -1.862367   \n",
       "GTEX-S341-0826-SM-4AD73 -14.095958  -0.846277   1.717609 -6.557141  11.929778   \n",
       "GTEX-SE5C-0926-SM-4BRUF -14.003607  18.949666  -0.429333 -9.017997  -4.722975   \n",
       "\n",
       "                            PCA-5     PCA-6     PCA-7         PCA-8  \n",
       "sample_id                                                            \n",
       "GTEX-OHPK-2326-SM-3MJH2  4.135234  2.425296  6.281069  6.650930e-15  \n",
       "GTEX-PLZ4-2326-SM-EYYV5  2.277269 -1.439913 -5.884934  9.860168e-15  \n",
       "GTEX-S32W-1326-SM-4AD5Q  8.641618  3.090182 -0.356942  1.625436e-15  \n",
       "GTEX-S341-0826-SM-4AD73  3.382750 -3.346331 -2.219454  4.324666e-15  \n",
       "GTEX-SE5C-0926-SM-4BRUF -3.929838  0.821213 -0.424060  4.152928e-15  "
      ]
     },
     "metadata": {},
     "output_type": "display_data"
    }
   ],
   "source": [
    "figure_legend(\"Table 6\",\"Principle components of RNA-seq data\", \"The top principle components are the projections of each datapoint onto the axes along which there is the most variation in the dataset.\")\n",
    "display(df_data_norm_pca.head())"
   ]
  },
  {
   "cell_type": "code",
   "execution_count": 22,
   "metadata": {
    "execution": {
     "iopub.execute_input": "2020-09-15T20:40:08.249522Z",
     "iopub.status.busy": "2020-09-15T20:40:08.248134Z",
     "iopub.status.idle": "2020-09-15T20:40:09.697157Z",
     "shell.execute_reply": "2020-09-15T20:40:09.696514Z"
    }
   },
   "outputs": [
    {
     "data": {
      "text/html": [
       "<script src=\"/static/components/requirejs/require.js\"></script>"
      ],
      "text/plain": [
       "<IPython.core.display.HTML object>"
      ]
     },
     "metadata": {},
     "output_type": "display_data"
    },
    {
     "data": {
      "text/html": [
       "\n",
       "  <style>\n",
       "  body {\n",
       "    font: 11px sans-serif;\n",
       "    color: #2A3F5E\n",
       "  }\n",
       "  .chart {\n",
       "    background-color: #E5ECF6;\n",
       "    display: relative;\n",
       "  }\n",
       "  .axis path,\n",
       "  .axis line {\n",
       "    fill: none;\n",
       "    stroke: #2A3F5E;\n",
       "    shape-rendering: crispEdges;\n",
       "  }\n",
       "  .label {\n",
       "    color: #2A3F5E;\n",
       "  }\n",
       "  .selection {\n",
       "    margin-bottom: 20px;\n",
       "  }\n",
       "  .dot {\n",
       "    stroke: #fff;\n",
       "    opacity: 0.8;\n",
       "  }\n",
       "  .grid line {\n",
       "    stroke: #fff;\n",
       "    stroke-opacity: 0.7;\n",
       "    stroke-width: 2px;\n",
       "    shape-rendering: crispEdges;\n",
       "  }\n",
       "  .grid path {\n",
       "    stroke-width: 0;\n",
       "  }\n",
       "  .tooltip {\n",
       "    position: absolute;\n",
       "    font-size: 12px;\n",
       "    width:  auto;\n",
       "    height: auto;\n",
       "    pointer-events: none;\n",
       "    background-color: white;\n",
       "    padding: 5px;\n",
       "  }\n",
       ".legend {\n",
       "    background-color: white;\n",
       "    position: absolute;\n",
       "    left: 650px;\n",
       "    top: 20px;\n",
       "    width:  auto;\n",
       "    height: 500px;\n",
       "  }\n",
       "  </style>\n",
       "  <script>\n",
       "  require.config({\n",
       "    paths: {\n",
       "      'd3': 'https://cdnjs.cloudflare.com/ajax/libs/d3/5.16.0/d3.min',\n",
       "    }\n",
       "  })\n",
       "\n",
       "  // If we configure mychart via url, we can eliminate this define here\n",
       "  define('mychart-ac9668cc-d33e-4137-9259-2df0930c7f32', ['d3'], function(d3) {\n",
       "    return function (figure_id, legend_id, select_id, data, xCat, yCat, sizeCat, axes) {\n",
       "\n",
       "      var initialFeature = d3.select(\"#\" + select_id).property(\"value\")\n",
       "\n",
       "      var margin = {top: 40, right: 10, bottom: 50, left: 50},\n",
       "        width = 650 - margin.left - margin.right,\n",
       "        height = 400 - margin.top - margin.bottom;\n",
       "\n",
       "      // append the svg object to the body of the page\n",
       "      var svg = d3.select('#' + figure_id)\n",
       "        .attr(\"width\", width + margin.left + margin.right)\n",
       "        .attr(\"height\", height + margin.top + margin.bottom)\n",
       "        .append(\"g\")\n",
       "          .attr(\"transform\",\n",
       "                \"translate(\" + margin.left + \",\" + margin.top + \")\");\n",
       "\n",
       "      // X and Y scales and Axis\n",
       "      var x = d3.scaleLinear()\n",
       "          .domain(axes[\"x\"])\n",
       "          .range([0, width]);\n",
       "\n",
       "      var y = d3.scaleLinear()\n",
       "          .domain(axes[\"y\"])\n",
       "          .range([height, 0]);\n",
       "\n",
       "      // Add X-axis and label\n",
       "      svg\n",
       "        .append('g')\n",
       "        .attr(\"class\", \"x axis\")\n",
       "        .attr(\"transform\", \"translate(0,\" + height + \")\")\n",
       "        .call(d3.axisBottom(x))\n",
       "\n",
       "      svg.append(\"text\")\n",
       "          .attr(\"class\", \"label\")\n",
       "          .attr(\"x\", width / 2)\n",
       "          .attr(\"y\", height + 35)\n",
       "          .style(\"text-anchor\", \"end\")\n",
       "          .text(xCat);\n",
       "\n",
       "      // Add Y-axis and label\n",
       "\n",
       "      svg\n",
       "        .append('g')\n",
       "        .call(d3.axisLeft(y));\n",
       "\n",
       "      svg.append(\"text\")\n",
       "          .attr(\"class\", \"label\")\n",
       "          .attr(\"x\", -(height - 15)/ 2 )\n",
       "          .attr(\"y\", -30)\n",
       "          .attr(\"transform\", \"rotate(-90)\")\n",
       "          .style(\"text-anchor\", \"end\")\n",
       "          .text(yCat);\n",
       "\n",
       "\n",
       "      // gridlines in x axis function\n",
       "      function make_x_gridlines() {\n",
       "          return d3.axisBottom(x)\n",
       "              .ticks(5)\n",
       "      }\n",
       "      // gridlines in y axis function\n",
       "      function make_y_gridlines() {\n",
       "          return d3.axisLeft(y)\n",
       "              .ticks(5)\n",
       "      }\n",
       "\n",
       "      // add grid lines\n",
       "\n",
       "      // add the X gridlines\n",
       "      svg.append(\"g\")\n",
       "          .attr(\"class\", \"grid\")\n",
       "          .attr(\"transform\", \"translate(0,\" + height + \")\")\n",
       "          .call(make_x_gridlines()\n",
       "              .tickSize(-height)\n",
       "              .tickFormat(\"\")\n",
       "          )\n",
       "\n",
       "      // add the Y gridlines\n",
       "      svg.append(\"g\")\n",
       "          .attr(\"class\", \"grid\")\n",
       "          .call(make_y_gridlines()\n",
       "              .tickSize(-width)\n",
       "              .tickFormat(\"\")\n",
       "          )\n",
       "\n",
       "      // Add the datapoints\n",
       "      var dots = svg\n",
       "        .selectAll()\n",
       "        .data(data)\n",
       "        .enter()\n",
       "        .append(\"circle\")\n",
       "\n",
       "      // Add the tooltip container to the body container\n",
       "      // it's invisible and its position/contents are defined during mouseover\n",
       "      var tooltip = d3.select(\"body\").append(\"div\")\n",
       "          .attr(\"class\", \"tooltip\")\n",
       "          .style(\"opacity\", 0);\n",
       "\n",
       "      // Add the legend container to the body container\n",
       "      var legend = d3.select(\"#\" + legend_id).attr(\"y\", 0);\n",
       "\n",
       "      // tooltip mouseover event handler\n",
       "      var tipMouseover = d => {\n",
       "          // x and y numeric labels\n",
       "          let html  = xCat + \": \" + Number((d[xCat]).toFixed(3)) + \"<br>\" + yCat + \": \" + Number((d[yCat]).toFixed(3)) + \"<br><br>\"\n",
       "          // color feature label\n",
       "          html += colorFeature + \": \" + d[colorFeature]\n",
       "          tooltip.html(html)\n",
       "              .style(\"left\", (d3.event.pageX + 10) + \"px\")\n",
       "              .style(\"top\", (d3.event.pageY - 15) + \"px\")\n",
       "            .transition()\n",
       "              .style(\"opacity\", .9)\n",
       "\n",
       "      };\n",
       "\n",
       "      function updateLegendCat(featureColors) { // create the categorical legend\n",
       "\n",
       "        var legend = d3.select(\"#\" + legend_id).html(\"\") // clear current legend content\n",
       "\n",
       "            legend.append(\"text\")\n",
       "                .attr(\"x\", 15)\n",
       "                .attr(\"y\", 10)\n",
       "                .text(colorFeature)\n",
       "                .attr(\"font-size\", \"14px\")\n",
       "\n",
       "            let i = 0\n",
       "            Object.keys(featureColors).forEach(feature => {\n",
       "              legend.append(\"circle\")\n",
       "                .attr(\"cx\",20)\n",
       "                .attr(\"cy\",30 + 20*i)\n",
       "                .attr(\"r\", 4)\n",
       "                .style(\"fill\", featureColors[feature])\n",
       "              legend.append(\"text\")\n",
       "                .attr(\"x\", 40)\n",
       "                .attr(\"y\", 30 + 20*i )\n",
       "                .text(feature)\n",
       "                .style(\"font-size\", \"14px\")\n",
       "                .attr(\"alignment-baseline\",\"middle\")\n",
       "              i += 1\n",
       "            })\n",
       "\n",
       "      }\n",
       "\n",
       "    function updateLegendNum(domain) { // create the continuous (numerical) legend\n",
       "\n",
       "        var legend = d3.select(\"#\" + legend_id).html(\"\")\n",
       "        var width = 30,\n",
       "            height = 300;\n",
       "\n",
       "        // add legend title\n",
       "         legend.append(\"text\")\n",
       "                .attr(\"x\", 15)\n",
       "                .attr(\"y\", 10)\n",
       "                .text(colorFeature)\n",
       "                .attr(\"font-size\", \"14px\")\n",
       "\n",
       "        var textHeight = 1;\n",
       "\n",
       "        var linearGradient = legend.append(\"defs\")\n",
       "        .append(\"linearGradient\")\n",
       "        .attr(\"id\", \"linear-gradient\")\n",
       "        .attr(\"gradientTransform\", \"rotate(90)\");\n",
       "\n",
       "        var color = d3.scaleSequential(d3.interpolatePlasma).domain([0,100])\n",
       "\n",
       "\n",
       "        for (let i = 0; i <= 100; i += 5)\n",
       "            linearGradient.append(\"stop\")\n",
       "                .attr(\"offset\", i + \"%\")\n",
       "                .attr(\"stop-color\", color(100-i)); // to get the right orientation of gradient\n",
       "\n",
       "\n",
       "        const legendScale = num => {\n",
       "            var scale = d3.scaleLinear()\n",
       "                      .domain([5, 0])\n",
       "                      .range(domain)\n",
       "            return Number((scale(num))).toFixed(0)\n",
       "\n",
       "        }\n",
       "\n",
       "        legend.append(\"rect\")\n",
       "            .attr(\"x\", 20)\n",
       "            .attr(\"y\", 30)\n",
       "            .attr(\"width\", width)\n",
       "            .attr(\"height\", height)\n",
       "            .style(\"fill\", \"url(#linear-gradient)\");\n",
       "\n",
       "        for (let i = 0; i <= 5; i += 1) {\n",
       "         legend.append(\"text\")\n",
       "            .attr(\"x\", 55)\n",
       "            .attr(\"y\", 30 + textHeight/2 + ((height-textHeight*6)/5)*i)\n",
       "            .text(legendScale(i))\n",
       "            .style(\"font-size\", \"14px\")\n",
       "            .attr(\"alignment-baseline\",\"middle\");\n",
       "        }\n",
       "\n",
       "      }\n",
       "\n",
       "      // tooltip mouseout event handler\n",
       "      var tipMouseout = d => {\n",
       "          tooltip.transition()\n",
       "              .duration(0) // ms\n",
       "              .style(\"opacity\", 0); // don't care about position!\n",
       "      };\n",
       "\n",
       "      var sizeScale = d3.scaleLinear()\n",
       "                      .domain(sizeCat[\"range\"])\n",
       "                      .range([3,7])\n",
       "\n",
       "      dots.attr(\"class\", \"dot\")\n",
       "        .attr(\"cx\", d => x(d[xCat]) )\n",
       "        .attr(\"cy\", d => y(d[yCat]) )\n",
       "        .attr(\"r\", d => sizeScale(d[sizeCat[\"label\"]]))\n",
       "        .on(\"mouseover\", tipMouseover)\n",
       "        .on(\"mouseout\", tipMouseout)\n",
       "\n",
       "      update(initialFeature)\n",
       "\n",
       "      // A function that update the chart with the new color coding scheme\n",
       "      function update(feature) {\n",
       "        colorFeature = feature\n",
       "        var colors = ['#636EFA', '#EF553B', '#00CC96', '#AB63FA', '#FFA15A', '#19D3F3', '#FF6692', '#B6E880', '#FF97FF', '#FECB52']\n",
       "\n",
       "        var color;\n",
       "        let type = {'age': 'categorical', 'dthhrdy': 'categorical', 'autolysis_score': 'float64', 'bss_site': 'categorical', 'gtype_batch_id': 'categorical', 'gtype_batch_date': 'categorical', 'frag_len_std': 'float64', 'end2_antisense': 'float64'}[feature];\n",
       "        if (type === \"categorical\") {\n",
       "            color = d3.scaleOrdinal(colors);\n",
       "            let featureColors = {}\n",
       "            dots\n",
       "            .attr(\"fill\", d => {\n",
       "              let dotColor = color(d[feature])\n",
       "              featureColors[d[feature]] = dotColor\n",
       "              return dotColor\n",
       "            })\n",
       "            updateLegendCat(featureColors) // update the legend with the new color map\n",
       "\n",
       "        } else {\n",
       "            let feature_domain = {'autolysis_score': [0.0, 3.0], 'frag_len_std': [118.0, 280.0], 'end2_antisense': [12200000.0, 24100000.0]}[feature]\n",
       "            color = d3.scaleSequential(d3.interpolatePlasma).domain(feature_domain)\n",
       "\n",
       "           dots\n",
       "            .attr(\"fill\", d => {\n",
       "              let dotColor = color(d[feature])\n",
       "              return dotColor\n",
       "            })\n",
       "           updateLegendNum(feature_domain)\n",
       "\n",
       "        }\n",
       "\n",
       "      }\n",
       "\n",
       "      d3.select(\"#\" + select_id).on(\"change\", function(d) {\n",
       "        // recover the option that has been chosen\n",
       "        var selectedOption = d3.select(this).property(\"value\")\n",
       "        // run the updateChart function with this selected option\n",
       "        update(selectedOption)\n",
       "    });\n",
       "  }\n",
       "  })\n",
       "  </script>\n",
       "\n"
      ],
      "text/plain": [
       "<IPython.core.display.HTML object>"
      ]
     },
     "metadata": {},
     "output_type": "display_data"
    },
    {
     "data": {
      "text/html": [
       "\n",
       "<div class=\"selection\">\n",
       "  <label for=\"colorFeature\"\n",
       "       style=\"display: inline-block; width: 240px; text-align: right\">\n",
       "       <span> Color by feature: </span>\n",
       "</label>\n",
       "<select id='sel-e0e0096f-8cc7-4771-bc6a-a65db238c834'>\n",
       "  \"<option value ='age'>age</option><option value ='dthhrdy'>dthhrdy</option><option value ='autolysis_score'>autolysis_score</option><option value ='bss_site'>bss_site</option><option value ='gtype_batch_id'>gtype_batch_id</option><option value ='gtype_batch_date'>gtype_batch_date</option><option value ='frag_len_std'>frag_len_std</option><option value ='end2_antisense'>end2_antisense</option>\"\n",
       "</select>\n",
       "</div>\n",
       "<div style=\"position: relative\">\n",
       "  <svg id='fig-a54a99ba-56cf-4711-a676-0f41023a4166' class='chart'></svg>\n",
       "  <div class=\"legend\"><svg id='leg-2d1a0db5-5268-45b1-8487-580c4d585227' height=500 width=400></svg></div>\n",
       "</div>\n",
       "<script>\n",
       "require(['mychart-ac9668cc-d33e-4137-9259-2df0930c7f32'], function(mychart) {\n",
       "  mychart('fig-a54a99ba-56cf-4711-a676-0f41023a4166', 'leg-2d1a0db5-5268-45b1-8487-580c4d585227', 'sel-e0e0096f-8cc7-4771-bc6a-a65db238c834', [{'PCA-0': -20.727810589272163, 'PCA-1': -4.397037821799681, 'n_reads': 16632, 'log_n_reads': 14.021760782376862, 'n_expressed_genes': 72706419, 'age': '50-59', 'dthhrdy': 'Ventilator', 'autolysis_score': 1.0, 'bss_site': 'B1', 'gtype_batch_id': 'LCSET-2269', 'gtype_batch_date': '11/19/2012', 'frag_len_std': 280.0, 'end2_antisense': 22400000.0}, {'PCA-0': -14.541225069889203, 'PCA-1': -11.138145701212217, 'n_reads': 16370, 'log_n_reads': 13.9988548290938, 'n_expressed_genes': 52762869, 'age': '50-59', 'dthhrdy': 'N/A', 'autolysis_score': 3.0, 'bss_site': 'C1', 'gtype_batch_id': 'LCSET-10978', 'gtype_batch_date': '5/28/2017', 'frag_len_std': 168.0, 'end2_antisense': 16800000.0}, {'PCA-0': 28.06625466040723, 'PCA-1': 7.376117082264657, 'n_reads': 17189, 'log_n_reads': 14.069281924365423, 'n_expressed_genes': 36149356, 'age': '50-59', 'dthhrdy': 'Ventilator', 'autolysis_score': 1.0, 'bss_site': 'B1', 'gtype_batch_id': 'LCSET-3098', 'gtype_batch_date': '5/14/2013', 'frag_len_std': 121.0, 'end2_antisense': 13100000.0}, {'PCA-0': -14.095957784124234, 'PCA-1': -0.8462774198715383, 'n_reads': 17012, 'log_n_reads': 14.054349941685503, 'n_expressed_genes': 48773818, 'age': '40-49', 'dthhrdy': 'Ventilator', 'autolysis_score': 0.0, 'bss_site': 'B1', 'gtype_batch_id': 'LCSET-3098', 'gtype_batch_date': '5/14/2013', 'frag_len_std': 161.0, 'end2_antisense': 15500000.0}, {'PCA-0': -14.003606732907764, 'PCA-1': 18.94966558322111, 'n_reads': 16460, 'log_n_reads': 14.00676436119103, 'n_expressed_genes': 38870256, 'age': '40-49', 'dthhrdy': 'Ventilator', 'autolysis_score': 0.0, 'bss_site': 'B1', 'gtype_batch_id': 'LCSET-3152', 'gtype_batch_date': '5/27/2013', 'frag_len_std': 118.0, 'end2_antisense': 12200000.0}, {'PCA-0': -6.415049215288934, 'PCA-1': 6.861165767934241, 'n_reads': 16671, 'log_n_reads': 14.025139562278508, 'n_expressed_genes': 46497707, 'age': '20-29', 'dthhrdy': 'Ventilator', 'autolysis_score': 1.0, 'bss_site': 'B1', 'gtype_batch_id': 'LCSET-3205', 'gtype_batch_date': '5/31/2013', 'frag_len_std': 139.0, 'end2_antisense': 15000000.0}, {'PCA-0': -9.56783663003598, 'PCA-1': -1.3203466465933307, 'n_reads': 16630, 'log_n_reads': 14.021587298124501, 'n_expressed_genes': 43170690, 'age': '40-49', 'dthhrdy': 'Ventilator', 'autolysis_score': 1.0, 'bss_site': 'B1', 'gtype_batch_id': 'LCSET-3205', 'gtype_batch_date': '5/31/2013', 'frag_len_std': 138.0, 'end2_antisense': 14500000.0}, {'PCA-0': 5.656435248008564, 'PCA-1': -13.290721904337307, 'n_reads': 16558, 'log_n_reads': 14.015327930490415, 'n_expressed_genes': 68405602, 'age': '60-69', 'dthhrdy': 'Ventilator', 'autolysis_score': 2.0, 'bss_site': 'C1', 'gtype_batch_id': 'LCSET-10979', 'gtype_batch_date': '5/29/2017', 'frag_len_std': 280.0, 'end2_antisense': 24100000.0}, {'PCA-0': 45.62879611310248, 'PCA-1': -2.194418939605929, 'n_reads': 16844, 'log_n_reads': 14.04003280800912, 'n_expressed_genes': 38839978, 'age': '30-39', 'dthhrdy': 'Ventilator', 'autolysis_score': 0.0, 'bss_site': 'B1', 'gtype_batch_id': 'LCSET-3206', 'gtype_batch_date': '6/4/2013', 'frag_len_std': 131.0, 'end2_antisense': 15000000.0}], 'PCA-0', 'PCA-1', {'label': 'n_reads', 'range': [16370, 17189]},  {'x': [-22.800591648199383, 50.19167572441273], 'y': [-14.619794094771038, 20.844632141543222]} )\n",
       "})\n",
       "</script>\n"
      ],
      "text/plain": [
       "<IPython.core.display.HTML object>"
      ]
     },
     "metadata": {},
     "output_type": "display_data"
    },
    {
     "data": {
      "text/html": [
       "<div style='font-size:1.5rem;'><b>Figure 6</b>: <i>Projection of RNA-seq data onto first two principle directions</i>. The size of datapoints corresponds to the number of gene reads. Points can be color-coded by any of the metadata categories using the dropdown menu. </div>"
      ],
      "text/plain": [
       "<IPython.core.display.HTML object>"
      ]
     },
     "metadata": {},
     "output_type": "display_data"
    }
   ],
   "source": [
    "pca_data = merge(\n",
    "        df_data_norm_pca[[\"PCA-0\", \"PCA-1\"]],\n",
    "        df_library_size,\n",
    "        df_metadata\n",
    "      )\n",
    "\n",
    "axes = {\n",
    "    \"x\": [min(df_data_norm_pca[\"PCA-0\"])*1.1, max(df_data_norm_pca[\"PCA-0\"])*1.1],\n",
    "    \"y\": [min(df_data_norm_pca[\"PCA-1\"])*1.1, max(df_data_norm_pca[\"PCA-1\"])*1.1]\n",
    "}\n",
    "\n",
    "scatter_plot(pca_data,\"PCA-0\", \"PCA-1\",axes,features)\n",
    "figure_legend(\"Figure 6\",\"Projection of RNA-seq data onto first two principle directions\", \"The size of datapoints corresponds to the number of gene reads. Points can be color-coded by any of the metadata categories using the dropdown menu.\")"
   ]
  },
  {
   "cell_type": "markdown",
   "metadata": {},
   "source": [
    "### 4b. Uniform Manifold Approximation and Projection\n",
    "\n",
    "The dimensionality of the dataset is further reduced by performing UMAP on the data projected onto the first `n_pca_components` PCA components."
   ]
  },
  {
   "cell_type": "code",
   "execution_count": 23,
   "metadata": {
    "execution": {
     "iopub.execute_input": "2020-09-15T20:40:09.708790Z",
     "iopub.status.busy": "2020-09-15T20:40:09.707929Z",
     "iopub.status.idle": "2020-09-15T20:40:20.013509Z",
     "shell.execute_reply": "2020-09-15T20:40:20.014095Z"
    },
    "scrolled": true
   },
   "outputs": [],
   "source": [
    "# UMAP\n",
    "data_norm_umap = UMAP(\n",
    "  random_state=42,\n",
    "  n_components=2,\n",
    "  n_neighbors=min(n_neighbors, df_data_norm_pca.shape[0]-1),\n",
    "  metric='cosine',\n",
    "  min_dist=min_cluster_dist,\n",
    ")\n",
    "\n",
    "# use top n_pca_components components of PCA\n",
    "n_pca_components = min(n_pca_components,df_data_norm_pca.shape[1])\n",
    "data_norm_umap.fit(df_data_norm_pca.iloc[:, :n_pca_components].values)\n",
    "\n",
    "df_data_norm_umap = pd.DataFrame(\n",
    "  data_norm_umap.transform(df_data_norm_pca.iloc[:, :n_pca_components].values),\n",
    "  columns=['UMAP-0', 'UMAP-1'],\n",
    "  index=df_data_norm_pca.index,\n",
    ")"
   ]
  },
  {
   "cell_type": "code",
   "execution_count": 24,
   "metadata": {
    "execution": {
     "iopub.execute_input": "2020-09-15T20:40:20.041339Z",
     "iopub.status.busy": "2020-09-15T20:40:20.040547Z",
     "iopub.status.idle": "2020-09-15T20:40:21.422634Z",
     "shell.execute_reply": "2020-09-15T20:40:21.422000Z"
    }
   },
   "outputs": [],
   "source": [
    "# project data onto its first 2 UMAP components for visualization\n",
    "umap_data = merge(\n",
    "        df_data_norm_umap[[\"UMAP-0\", \"UMAP-1\"]],\n",
    "        df_library_size,\n",
    "        df_metadata\n",
    "      )\n",
    "\n",
    "axes = {\n",
    "    \"x\": [min(df_data_norm_umap[\"UMAP-0\"])*1.1, max(df_data_norm_umap[\"UMAP-0\"])*1.1],\n",
    "    \"y\": [min(df_data_norm_umap[\"UMAP-1\"])*1.1, max(df_data_norm_umap[\"UMAP-1\"])*1.1]\n",
    "}"
   ]
  },
  {
   "cell_type": "code",
   "execution_count": 25,
   "metadata": {},
   "outputs": [
    {
     "data": {
      "text/html": [
       "<script src=\"/static/components/requirejs/require.js\"></script>"
      ],
      "text/plain": [
       "<IPython.core.display.HTML object>"
      ]
     },
     "metadata": {},
     "output_type": "display_data"
    },
    {
     "data": {
      "text/html": [
       "\n",
       "  <style>\n",
       "  body {\n",
       "    font: 11px sans-serif;\n",
       "    color: #2A3F5E\n",
       "  }\n",
       "  .chart {\n",
       "    background-color: #E5ECF6;\n",
       "    display: relative;\n",
       "  }\n",
       "  .axis path,\n",
       "  .axis line {\n",
       "    fill: none;\n",
       "    stroke: #2A3F5E;\n",
       "    shape-rendering: crispEdges;\n",
       "  }\n",
       "  .label {\n",
       "    color: #2A3F5E;\n",
       "  }\n",
       "  .selection {\n",
       "    margin-bottom: 20px;\n",
       "  }\n",
       "  .dot {\n",
       "    stroke: #fff;\n",
       "    opacity: 0.8;\n",
       "  }\n",
       "  .grid line {\n",
       "    stroke: #fff;\n",
       "    stroke-opacity: 0.7;\n",
       "    stroke-width: 2px;\n",
       "    shape-rendering: crispEdges;\n",
       "  }\n",
       "  .grid path {\n",
       "    stroke-width: 0;\n",
       "  }\n",
       "  .tooltip {\n",
       "    position: absolute;\n",
       "    font-size: 12px;\n",
       "    width:  auto;\n",
       "    height: auto;\n",
       "    pointer-events: none;\n",
       "    background-color: white;\n",
       "    padding: 5px;\n",
       "  }\n",
       ".legend {\n",
       "    background-color: white;\n",
       "    position: absolute;\n",
       "    left: 650px;\n",
       "    top: 20px;\n",
       "    width:  auto;\n",
       "    height: 500px;\n",
       "  }\n",
       "  </style>\n",
       "  <script>\n",
       "  require.config({\n",
       "    paths: {\n",
       "      'd3': 'https://cdnjs.cloudflare.com/ajax/libs/d3/5.16.0/d3.min',\n",
       "    }\n",
       "  })\n",
       "\n",
       "  // If we configure mychart via url, we can eliminate this define here\n",
       "  define('mychart-76840e92-9249-4fda-9fb1-849564191fa3', ['d3'], function(d3) {\n",
       "    return function (figure_id, legend_id, select_id, data, xCat, yCat, sizeCat, axes) {\n",
       "\n",
       "      var initialFeature = d3.select(\"#\" + select_id).property(\"value\")\n",
       "\n",
       "      var margin = {top: 40, right: 10, bottom: 50, left: 50},\n",
       "        width = 650 - margin.left - margin.right,\n",
       "        height = 400 - margin.top - margin.bottom;\n",
       "\n",
       "      // append the svg object to the body of the page\n",
       "      var svg = d3.select('#' + figure_id)\n",
       "        .attr(\"width\", width + margin.left + margin.right)\n",
       "        .attr(\"height\", height + margin.top + margin.bottom)\n",
       "        .append(\"g\")\n",
       "          .attr(\"transform\",\n",
       "                \"translate(\" + margin.left + \",\" + margin.top + \")\");\n",
       "\n",
       "      // X and Y scales and Axis\n",
       "      var x = d3.scaleLinear()\n",
       "          .domain(axes[\"x\"])\n",
       "          .range([0, width]);\n",
       "\n",
       "      var y = d3.scaleLinear()\n",
       "          .domain(axes[\"y\"])\n",
       "          .range([height, 0]);\n",
       "\n",
       "      // Add X-axis and label\n",
       "      svg\n",
       "        .append('g')\n",
       "        .attr(\"class\", \"x axis\")\n",
       "        .attr(\"transform\", \"translate(0,\" + height + \")\")\n",
       "        .call(d3.axisBottom(x))\n",
       "\n",
       "      svg.append(\"text\")\n",
       "          .attr(\"class\", \"label\")\n",
       "          .attr(\"x\", width / 2)\n",
       "          .attr(\"y\", height + 35)\n",
       "          .style(\"text-anchor\", \"end\")\n",
       "          .text(xCat);\n",
       "\n",
       "      // Add Y-axis and label\n",
       "\n",
       "      svg\n",
       "        .append('g')\n",
       "        .call(d3.axisLeft(y));\n",
       "\n",
       "      svg.append(\"text\")\n",
       "          .attr(\"class\", \"label\")\n",
       "          .attr(\"x\", -(height - 15)/ 2 )\n",
       "          .attr(\"y\", -30)\n",
       "          .attr(\"transform\", \"rotate(-90)\")\n",
       "          .style(\"text-anchor\", \"end\")\n",
       "          .text(yCat);\n",
       "\n",
       "\n",
       "      // gridlines in x axis function\n",
       "      function make_x_gridlines() {\n",
       "          return d3.axisBottom(x)\n",
       "              .ticks(5)\n",
       "      }\n",
       "      // gridlines in y axis function\n",
       "      function make_y_gridlines() {\n",
       "          return d3.axisLeft(y)\n",
       "              .ticks(5)\n",
       "      }\n",
       "\n",
       "      // add grid lines\n",
       "\n",
       "      // add the X gridlines\n",
       "      svg.append(\"g\")\n",
       "          .attr(\"class\", \"grid\")\n",
       "          .attr(\"transform\", \"translate(0,\" + height + \")\")\n",
       "          .call(make_x_gridlines()\n",
       "              .tickSize(-height)\n",
       "              .tickFormat(\"\")\n",
       "          )\n",
       "\n",
       "      // add the Y gridlines\n",
       "      svg.append(\"g\")\n",
       "          .attr(\"class\", \"grid\")\n",
       "          .call(make_y_gridlines()\n",
       "              .tickSize(-width)\n",
       "              .tickFormat(\"\")\n",
       "          )\n",
       "\n",
       "      // Add the datapoints\n",
       "      var dots = svg\n",
       "        .selectAll()\n",
       "        .data(data)\n",
       "        .enter()\n",
       "        .append(\"circle\")\n",
       "\n",
       "      // Add the tooltip container to the body container\n",
       "      // it's invisible and its position/contents are defined during mouseover\n",
       "      var tooltip = d3.select(\"body\").append(\"div\")\n",
       "          .attr(\"class\", \"tooltip\")\n",
       "          .style(\"opacity\", 0);\n",
       "\n",
       "      // Add the legend container to the body container\n",
       "      var legend = d3.select(\"#\" + legend_id).attr(\"y\", 0);\n",
       "\n",
       "      // tooltip mouseover event handler\n",
       "      var tipMouseover = d => {\n",
       "          // x and y numeric labels\n",
       "          let html  = xCat + \": \" + Number((d[xCat]).toFixed(3)) + \"<br>\" + yCat + \": \" + Number((d[yCat]).toFixed(3)) + \"<br><br>\"\n",
       "          // color feature label\n",
       "          html += colorFeature + \": \" + d[colorFeature]\n",
       "          tooltip.html(html)\n",
       "              .style(\"left\", (d3.event.pageX + 10) + \"px\")\n",
       "              .style(\"top\", (d3.event.pageY - 15) + \"px\")\n",
       "            .transition()\n",
       "              .style(\"opacity\", .9)\n",
       "\n",
       "      };\n",
       "\n",
       "      function updateLegendCat(featureColors) { // create the categorical legend\n",
       "\n",
       "        var legend = d3.select(\"#\" + legend_id).html(\"\") // clear current legend content\n",
       "\n",
       "            legend.append(\"text\")\n",
       "                .attr(\"x\", 15)\n",
       "                .attr(\"y\", 10)\n",
       "                .text(colorFeature)\n",
       "                .attr(\"font-size\", \"14px\")\n",
       "\n",
       "            let i = 0\n",
       "            Object.keys(featureColors).forEach(feature => {\n",
       "              legend.append(\"circle\")\n",
       "                .attr(\"cx\",20)\n",
       "                .attr(\"cy\",30 + 20*i)\n",
       "                .attr(\"r\", 4)\n",
       "                .style(\"fill\", featureColors[feature])\n",
       "              legend.append(\"text\")\n",
       "                .attr(\"x\", 40)\n",
       "                .attr(\"y\", 30 + 20*i )\n",
       "                .text(feature)\n",
       "                .style(\"font-size\", \"14px\")\n",
       "                .attr(\"alignment-baseline\",\"middle\")\n",
       "              i += 1\n",
       "            })\n",
       "\n",
       "      }\n",
       "\n",
       "    function updateLegendNum(domain) { // create the continuous (numerical) legend\n",
       "\n",
       "        var legend = d3.select(\"#\" + legend_id).html(\"\")\n",
       "        var width = 30,\n",
       "            height = 300;\n",
       "\n",
       "        // add legend title\n",
       "         legend.append(\"text\")\n",
       "                .attr(\"x\", 15)\n",
       "                .attr(\"y\", 10)\n",
       "                .text(colorFeature)\n",
       "                .attr(\"font-size\", \"14px\")\n",
       "\n",
       "        var textHeight = 1;\n",
       "\n",
       "        var linearGradient = legend.append(\"defs\")\n",
       "        .append(\"linearGradient\")\n",
       "        .attr(\"id\", \"linear-gradient\")\n",
       "        .attr(\"gradientTransform\", \"rotate(90)\");\n",
       "\n",
       "        var color = d3.scaleSequential(d3.interpolatePlasma).domain([0,100])\n",
       "\n",
       "\n",
       "        for (let i = 0; i <= 100; i += 5)\n",
       "            linearGradient.append(\"stop\")\n",
       "                .attr(\"offset\", i + \"%\")\n",
       "                .attr(\"stop-color\", color(100-i)); // to get the right orientation of gradient\n",
       "\n",
       "\n",
       "        const legendScale = num => {\n",
       "            var scale = d3.scaleLinear()\n",
       "                      .domain([5, 0])\n",
       "                      .range(domain)\n",
       "            return Number((scale(num))).toFixed(0)\n",
       "\n",
       "        }\n",
       "\n",
       "        legend.append(\"rect\")\n",
       "            .attr(\"x\", 20)\n",
       "            .attr(\"y\", 30)\n",
       "            .attr(\"width\", width)\n",
       "            .attr(\"height\", height)\n",
       "            .style(\"fill\", \"url(#linear-gradient)\");\n",
       "\n",
       "        for (let i = 0; i <= 5; i += 1) {\n",
       "         legend.append(\"text\")\n",
       "            .attr(\"x\", 55)\n",
       "            .attr(\"y\", 30 + textHeight/2 + ((height-textHeight*6)/5)*i)\n",
       "            .text(legendScale(i))\n",
       "            .style(\"font-size\", \"14px\")\n",
       "            .attr(\"alignment-baseline\",\"middle\");\n",
       "        }\n",
       "\n",
       "      }\n",
       "\n",
       "      // tooltip mouseout event handler\n",
       "      var tipMouseout = d => {\n",
       "          tooltip.transition()\n",
       "              .duration(0) // ms\n",
       "              .style(\"opacity\", 0); // don't care about position!\n",
       "      };\n",
       "\n",
       "      var sizeScale = d3.scaleLinear()\n",
       "                      .domain(sizeCat[\"range\"])\n",
       "                      .range([3,7])\n",
       "\n",
       "      dots.attr(\"class\", \"dot\")\n",
       "        .attr(\"cx\", d => x(d[xCat]) )\n",
       "        .attr(\"cy\", d => y(d[yCat]) )\n",
       "        .attr(\"r\", d => sizeScale(d[sizeCat[\"label\"]]))\n",
       "        .on(\"mouseover\", tipMouseover)\n",
       "        .on(\"mouseout\", tipMouseout)\n",
       "\n",
       "      update(initialFeature)\n",
       "\n",
       "      // A function that update the chart with the new color coding scheme\n",
       "      function update(feature) {\n",
       "        colorFeature = feature\n",
       "        var colors = ['#636EFA', '#EF553B', '#00CC96', '#AB63FA', '#FFA15A', '#19D3F3', '#FF6692', '#B6E880', '#FF97FF', '#FECB52']\n",
       "\n",
       "        var color;\n",
       "        let type = {'age': 'categorical', 'dthhrdy': 'categorical', 'autolysis_score': 'float64', 'bss_site': 'categorical', 'gtype_batch_id': 'categorical', 'gtype_batch_date': 'categorical', 'frag_len_std': 'float64', 'end2_antisense': 'float64'}[feature];\n",
       "        if (type === \"categorical\") {\n",
       "            color = d3.scaleOrdinal(colors);\n",
       "            let featureColors = {}\n",
       "            dots\n",
       "            .attr(\"fill\", d => {\n",
       "              let dotColor = color(d[feature])\n",
       "              featureColors[d[feature]] = dotColor\n",
       "              return dotColor\n",
       "            })\n",
       "            updateLegendCat(featureColors) // update the legend with the new color map\n",
       "\n",
       "        } else {\n",
       "            let feature_domain = {'autolysis_score': [0.0, 3.0], 'frag_len_std': [118.0, 280.0], 'end2_antisense': [12200000.0, 24100000.0]}[feature]\n",
       "            color = d3.scaleSequential(d3.interpolatePlasma).domain(feature_domain)\n",
       "\n",
       "           dots\n",
       "            .attr(\"fill\", d => {\n",
       "              let dotColor = color(d[feature])\n",
       "              return dotColor\n",
       "            })\n",
       "           updateLegendNum(feature_domain)\n",
       "\n",
       "        }\n",
       "\n",
       "      }\n",
       "\n",
       "      d3.select(\"#\" + select_id).on(\"change\", function(d) {\n",
       "        // recover the option that has been chosen\n",
       "        var selectedOption = d3.select(this).property(\"value\")\n",
       "        // run the updateChart function with this selected option\n",
       "        update(selectedOption)\n",
       "    });\n",
       "  }\n",
       "  })\n",
       "  </script>\n",
       "\n"
      ],
      "text/plain": [
       "<IPython.core.display.HTML object>"
      ]
     },
     "metadata": {},
     "output_type": "display_data"
    },
    {
     "data": {
      "text/html": [
       "\n",
       "<div class=\"selection\">\n",
       "  <label for=\"colorFeature\"\n",
       "       style=\"display: inline-block; width: 240px; text-align: right\">\n",
       "       <span> Color by feature: </span>\n",
       "</label>\n",
       "<select id='sel-35c9378f-10a5-44d4-b74e-dbf83b55e8ef'>\n",
       "  \"<option value ='age'>age</option><option value ='dthhrdy'>dthhrdy</option><option value ='autolysis_score'>autolysis_score</option><option value ='bss_site'>bss_site</option><option value ='gtype_batch_id'>gtype_batch_id</option><option value ='gtype_batch_date'>gtype_batch_date</option><option value ='frag_len_std'>frag_len_std</option><option value ='end2_antisense'>end2_antisense</option>\"\n",
       "</select>\n",
       "</div>\n",
       "<div style=\"position: relative\">\n",
       "  <svg id='fig-197d715b-a410-4bcc-9c8c-ae30bba32ee2' class='chart'></svg>\n",
       "  <div class=\"legend\"><svg id='leg-4616e343-7233-4a69-90c6-0452a598c556' height=500 width=400></svg></div>\n",
       "</div>\n",
       "<script>\n",
       "require(['mychart-76840e92-9249-4fda-9fb1-849564191fa3'], function(mychart) {\n",
       "  mychart('fig-197d715b-a410-4bcc-9c8c-ae30bba32ee2', 'leg-4616e343-7233-4a69-90c6-0452a598c556', 'sel-35c9378f-10a5-44d4-b74e-dbf83b55e8ef', [{'UMAP-0': 14.40870189666748, 'UMAP-1': -6.1561994552612305, 'n_reads': 16632, 'log_n_reads': 14.021760782376862, 'n_expressed_genes': 72706419, 'age': '50-59', 'dthhrdy': 'Ventilator', 'autolysis_score': 1.0, 'bss_site': 'B1', 'gtype_batch_id': 'LCSET-2269', 'gtype_batch_date': '11/19/2012', 'frag_len_std': 280.0, 'end2_antisense': 22400000.0}, {'UMAP-0': 14.978501319885254, 'UMAP-1': -5.00315523147583, 'n_reads': 16370, 'log_n_reads': 13.9988548290938, 'n_expressed_genes': 52762869, 'age': '50-59', 'dthhrdy': 'N/A', 'autolysis_score': 3.0, 'bss_site': 'C1', 'gtype_batch_id': 'LCSET-10978', 'gtype_batch_date': '5/28/2017', 'frag_len_std': 168.0, 'end2_antisense': 16800000.0}, {'UMAP-0': 14.012654304504395, 'UMAP-1': -2.8125476837158203, 'n_reads': 17189, 'log_n_reads': 14.069281924365423, 'n_expressed_genes': 36149356, 'age': '50-59', 'dthhrdy': 'Ventilator', 'autolysis_score': 1.0, 'bss_site': 'B1', 'gtype_batch_id': 'LCSET-3098', 'gtype_batch_date': '5/14/2013', 'frag_len_std': 121.0, 'end2_antisense': 13100000.0}, {'UMAP-0': 12.837562561035156, 'UMAP-1': -4.921115398406982, 'n_reads': 17012, 'log_n_reads': 14.054349941685503, 'n_expressed_genes': 48773818, 'age': '40-49', 'dthhrdy': 'Ventilator', 'autolysis_score': 0.0, 'bss_site': 'B1', 'gtype_batch_id': 'LCSET-3098', 'gtype_batch_date': '5/14/2013', 'frag_len_std': 161.0, 'end2_antisense': 15500000.0}, {'UMAP-0': 12.889244079589844, 'UMAP-1': -6.160436630249023, 'n_reads': 16460, 'log_n_reads': 14.00676436119103, 'n_expressed_genes': 38870256, 'age': '40-49', 'dthhrdy': 'Ventilator', 'autolysis_score': 0.0, 'bss_site': 'B1', 'gtype_batch_id': 'LCSET-3152', 'gtype_batch_date': '5/27/2013', 'frag_len_std': 118.0, 'end2_antisense': 12200000.0}, {'UMAP-0': 13.565558433532715, 'UMAP-1': -5.720530033111572, 'n_reads': 16671, 'log_n_reads': 14.025139562278508, 'n_expressed_genes': 46497707, 'age': '20-29', 'dthhrdy': 'Ventilator', 'autolysis_score': 1.0, 'bss_site': 'B1', 'gtype_batch_id': 'LCSET-3205', 'gtype_batch_date': '5/31/2013', 'frag_len_std': 139.0, 'end2_antisense': 15000000.0}, {'UMAP-0': 13.999746322631836, 'UMAP-1': -4.971983909606934, 'n_reads': 16630, 'log_n_reads': 14.021587298124501, 'n_expressed_genes': 43170690, 'age': '40-49', 'dthhrdy': 'Ventilator', 'autolysis_score': 1.0, 'bss_site': 'B1', 'gtype_batch_id': 'LCSET-3205', 'gtype_batch_date': '5/31/2013', 'frag_len_std': 138.0, 'end2_antisense': 14500000.0}, {'UMAP-0': 14.503644943237305, 'UMAP-1': -3.5681815147399902, 'n_reads': 16558, 'log_n_reads': 14.015327930490415, 'n_expressed_genes': 68405602, 'age': '60-69', 'dthhrdy': 'Ventilator', 'autolysis_score': 2.0, 'bss_site': 'C1', 'gtype_batch_id': 'LCSET-10979', 'gtype_batch_date': '5/29/2017', 'frag_len_std': 280.0, 'end2_antisense': 24100000.0}, {'UMAP-0': 13.6016206741333, 'UMAP-1': -3.5876667499542236, 'n_reads': 16844, 'log_n_reads': 14.04003280800912, 'n_expressed_genes': 38839978, 'age': '30-39', 'dthhrdy': 'Ventilator', 'autolysis_score': 0.0, 'bss_site': 'B1', 'gtype_batch_id': 'LCSET-3206', 'gtype_batch_date': '6/4/2013', 'frag_len_std': 131.0, 'end2_antisense': 15000000.0}], 'UMAP-0', 'UMAP-1', {'label': 'n_reads', 'range': [16370, 17189]},  {'x': [14.121318817138674, 16.476351451873782], 'y': [-6.776480293273926, -3.093802452087403]} )\n",
       "})\n",
       "</script>\n"
      ],
      "text/plain": [
       "<IPython.core.display.HTML object>"
      ]
     },
     "metadata": {},
     "output_type": "display_data"
    },
    {
     "data": {
      "text/html": [
       "<div style='font-size:1.5rem;'><b>Figure 7</b>: <i>First two UMAP components of RNA-seq data</i>. The size of datapoints corresponds to the number of gene reads. Points can be color-coded by any of the metadata categories using the dropdown menu. </div>"
      ],
      "text/plain": [
       "<IPython.core.display.HTML object>"
      ]
     },
     "metadata": {},
     "output_type": "display_data"
    }
   ],
   "source": [
    "scatter_plot(umap_data,\"UMAP-0\", \"UMAP-1\",axes,features)\n",
    "figure_legend(\"Figure 7\",\"First two UMAP components of RNA-seq data\", \"The size of datapoints corresponds to the number of gene reads. Points can be color-coded by any of the metadata categories using the dropdown menu.\")"
   ]
  },
  {
   "cell_type": "markdown",
   "metadata": {},
   "source": [
    "## 5. Clustering"
   ]
  },
  {
   "cell_type": "markdown",
   "metadata": {},
   "source": [
    "The first two UMAP components will be used from here on out. \n",
    "\n",
    "To compute sample clusters, the k-means method is used. The total number of clusters must be determined, by first testing a range for the number of total clusters, and then computing silhouette scores, which are a measure of how similar an entry is to its own cluster versus other clusters. The goal is to maximize both the similarity within a cluster and the differences between clusters, so the ideal number of clusters is that which produces the highest silhouette score.\n",
    "\n",
    "Here, the selection of $k$ is modified slightly to preserve nuances in the data by prioritizing more clusters over fewer. A modified silhouette score is also calculated, which takes into account the number of clusters $k$; each original score is bumped by a factor linear with respect to $k$. "
   ]
  },
  {
   "cell_type": "code",
   "execution_count": 26,
   "metadata": {
    "execution": {
     "iopub.execute_input": "2020-09-15T20:40:21.455964Z",
     "iopub.status.busy": "2020-09-15T20:40:21.452708Z",
     "iopub.status.idle": "2020-09-15T20:40:21.485464Z",
     "shell.execute_reply": "2020-09-15T20:40:21.486373Z"
    }
   },
   "outputs": [],
   "source": [
    "def plot_silhouette_analysis(n_clusters, data, cluster_labels, avg_score, sample_values, centers):\n",
    "    # Create a subplot with 1 row and 2 columns\n",
    "    fig, (ax1, ax2) = plt.subplots(1, 2)\n",
    "    fig.set_size_inches(18, 7)\n",
    "\n",
    "    # The 1st subplot is the silhouette plot\n",
    "    # The silhouette coefficient can range from -1, 1 but in this example all\n",
    "    # lie within [-0.1, 1]\n",
    "    ax1.set_xlim([-0.1, 1])\n",
    "    # The (n_clusters+1)*10 is for inserting blank space between silhouette\n",
    "    # plots of individual clusters, to demarcate them clearly.\n",
    "    ax1.set_ylim([0, len(X) + (n_clusters + 1) * 10])\n",
    "\n",
    "    y_lower = 10\n",
    "    for i in range(n_clusters):\n",
    "        # Aggregate the silhouette scores for samples belonging to\n",
    "        # cluster i, and sort them\n",
    "        ith_cluster_silhouette_values = \\\n",
    "            sample_values[cluster_labels == i]\n",
    "\n",
    "        ith_cluster_silhouette_values.sort()\n",
    "\n",
    "        size_cluster_i = ith_cluster_silhouette_values.shape[0]\n",
    "        y_upper = y_lower + size_cluster_i\n",
    "\n",
    "        color = cm.nipy_spectral(float(i) / n_clusters)\n",
    "        ax1.fill_betweenx(np.arange(y_lower, y_upper),\n",
    "                          0, ith_cluster_silhouette_values,\n",
    "                          facecolor=color, edgecolor=color, alpha=0.7)\n",
    "\n",
    "        # Label the silhouette plots with their cluster numbers at the middle\n",
    "        ax1.text(-0.05, y_lower + 0.5 * size_cluster_i, str(i))\n",
    "\n",
    "        # Compute the new y_lower for next plot\n",
    "        y_lower = y_upper + 10  # 10 for the 0 samples\n",
    "\n",
    "    ax1.set_title(\"The silhouette plot for the various clusters.\")\n",
    "    ax1.set_xlabel(\"The silhouette coefficient values\")\n",
    "    ax1.set_ylabel(\"Cluster label\")\n",
    "\n",
    "    # The vertical line for average silhouette score of all the values\n",
    "    ax1.axvline(x=silhouette_avg, color=\"red\", linestyle=\"--\")\n",
    "\n",
    "    ax1.set_yticks([])  # Clear the yaxis labels / ticks\n",
    "    ax1.set_xticks([-0.1, 0, 0.2, 0.4, 0.6, 0.8, 1])\n",
    "\n",
    "    # 2nd Plot showing the actual clusters formed\n",
    "    colors = cm.nipy_spectral(cluster_labels.astype(float) / n_clusters)\n",
    "    ax2.scatter(X[:, 0], X[:, 1], marker='.', s=30, lw=0, alpha=0.7,\n",
    "                c=colors, edgecolor='k')\n",
    "\n",
    "    # Draw white circles at cluster centers\n",
    "    ax2.scatter(centers[:, 0], centers[:, 1], marker='o',\n",
    "                c=\"white\", alpha=1, s=200, edgecolor='k')\n",
    "\n",
    "    for i, c in enumerate(centers):\n",
    "        ax2.scatter(c[0], c[1], marker='$%d$' % i, alpha=1,\n",
    "                    s=50, edgecolor='k')\n",
    "\n",
    "    ax2.set_title(\"The visualization of the clustered data.\")\n",
    "    ax2.set_xlabel(\"Feature space for the 1st feature\")\n",
    "    ax2.set_ylabel(\"Feature space for the 2nd feature\")\n",
    "\n",
    "    plt.suptitle((\"Silhouette analysis for k-means clustering on sample data \"\n",
    "                  \"with n_clusters = %d\" % n_clusters),\n",
    "                 fontsize=14, fontweight='bold')"
   ]
  },
  {
   "cell_type": "code",
   "execution_count": 27,
   "metadata": {
    "execution": {
     "iopub.execute_input": "2020-09-15T20:40:21.492754Z",
     "iopub.status.busy": "2020-09-15T20:40:21.489007Z",
     "iopub.status.idle": "2020-09-15T20:40:23.495292Z",
     "shell.execute_reply": "2020-09-15T20:40:23.494712Z"
    },
    "scrolled": true
   },
   "outputs": [],
   "source": [
    "silhouette_scores = []\n",
    "\n",
    "# Set max clusters as a function of the sample size and the user-selected option\n",
    "max_clusters = math.ceil(df_data_norm_umap.shape[0]**0.5)\n",
    "if (max_clusters_calculation == \"root/2\"):\n",
    "    max_clusters = int(math.ceil(max_clusters/2))\n",
    "\n",
    "\n",
    "def calc_weighted_score(silhouette_score, k, max_k):\n",
    "    return silhouette_avg*0.7 + k/max_k*0.3\n",
    "\n",
    "cluster_range = range(2, max_clusters)\n",
    "for n in cluster_range:\n",
    "    X = df_data_norm_umap.values\n",
    "    clusterer = KMeans(n_clusters=n, random_state=42).fit(X)\n",
    "    y_pred = clusterer.predict(X)\n",
    "    \n",
    "    # The silhouette_score gives the average value for all the samples.\n",
    "    # This gives a perspective into the density and separation of the formed\n",
    "    # clusters\n",
    "    silhouette_avg = silhouette_score(X, y_pred, metric='cosine')\n",
    "    \n",
    "    # Compute a weighted score that rewards higher numbers of clusters\n",
    "    weighted_score = calc_weighted_score(silhouette_avg, n, max_clusters)\n",
    "    \n",
    "    # Compute the silhouette scores for each sample\n",
    "    sample_silhouette_values = silhouette_samples(X, y_pred)\n",
    "\n",
    "    silhouette_scores.append({\n",
    "        \"N Clusters\": n,\n",
    "        \"Silhouette Score\": silhouette_avg,\n",
    "        \"Weighted Score\": weighted_score\n",
    "    })\n",
    "    \n",
    "    # Labeling the clusters\n",
    "    centers = clusterer.cluster_centers_\n",
    "    \n",
    "    # Plot the analysis for this number of clusters\n",
    "    #plot_silhouette_analysis(n, X, y_pred, silhouette_avg, sample_silhouette_values, centers)"
   ]
  },
  {
   "cell_type": "markdown",
   "metadata": {},
   "source": [
    "If using the \"second derivative method\" for ideal $k$ calculation, estimates of the second derivatives at each possible point can be computed to see if there are local maxima that may present better values of $k$ than the silhouette scores suggest. If such maxima exist, the value of $k$ that presents the most negative approximated second derivative (meaning the plot of scores is most concave *down* at this value of $k$) is chosen. \n",
    "\n",
    "To calculate the second derivatives, the following approximation is used:\n",
    "\n",
    "$$ f''(x) \\approx \\frac{f(x+h) - 2f(x) + f(x-h)}{h^2}$$\n",
    "\n",
    "where, in this case, $h = 1$."
   ]
  },
  {
   "cell_type": "code",
   "execution_count": 28,
   "metadata": {
    "execution": {
     "iopub.execute_input": "2020-09-15T20:40:23.504719Z",
     "iopub.status.busy": "2020-09-15T20:40:23.503947Z",
     "iopub.status.idle": "2020-09-15T20:40:23.528860Z",
     "shell.execute_reply": "2020-09-15T20:40:23.532440Z"
    }
   },
   "outputs": [
    {
     "name": "stdout",
     "output_type": "stream",
     "text": [
      "No local maxima with positive silhouette scores found\n"
     ]
    }
   ],
   "source": [
    "points = {}\n",
    "threshold = 0.3\n",
    "score_type = \"Silhouette Score\"\n",
    "if use_weighted_silhouette_score:\n",
    "    score_type = \"Weighted Score\"\n",
    "    \n",
    "for s in silhouette_scores:\n",
    "    points[s[\"N Clusters\"]] = s[score_type]\n",
    "\n",
    "# No local maxima - resort to previous method of best score calculation\n",
    "k = None\n",
    "\n",
    "if (use_second_deriv_method):\n",
    "    local_maxima = []\n",
    "    # Collect all local maxima\n",
    "    if len(cluster_range)>2:\n",
    "        calc_range = range(cluster_range[1], cluster_range[-2])\n",
    "        for n in calc_range:\n",
    "            if points[n] > threshold and points[n-1] < points[n] and points[n+1] < points[n]:\n",
    "                local_maxima.append(n)\n",
    "        \n",
    "    elif len(cluster_range)>1:\n",
    "        calc_range = cluster_range\n",
    "        if (points[cluster_range[1]] > threshold and points[cluster_range[0]] < points[cluster_range[1]]):\n",
    "            local_maxima.append(cluster_range[1])\n",
    "        if (points[cluster-range[0]] > threshold and points[cluster_range[1]] < points[cluster_range[0]]):\n",
    "            local_maxima.append(cluster_range[0])\n",
    "        \n",
    "    if len(local_maxima)>0:\n",
    "        print(\"K values for local maxima and positive silhouette score: \", local_maxima)\n",
    "    else:    \n",
    "        print(\"No local maxima with positive silhouette scores found\")\n",
    "        \n",
    "\n",
    "    # Otherwise, calculate which of the local max is most concave down (i.e. largest second derivative)\n",
    "    if len(local_maxima) > 0:\n",
    "        running_max = 0\n",
    "        for maxima in local_maxima:\n",
    "            # approximate the second derivative, with step size = 1\n",
    "            second_deriv = points[maxima + 1] -  2*points[maxima] + points[maxima-1]\n",
    "            if second_deriv < running_max:\n",
    "                running_max = second_deriv\n",
    "                k = maxima"
   ]
  },
  {
   "cell_type": "code",
   "execution_count": 29,
   "metadata": {
    "execution": {
     "iopub.execute_input": "2020-09-15T20:40:23.545376Z",
     "iopub.status.busy": "2020-09-15T20:40:23.544692Z",
     "iopub.status.idle": "2020-09-15T20:40:23.596951Z",
     "shell.execute_reply": "2020-09-15T20:40:23.597606Z"
    }
   },
   "outputs": [
    {
     "data": {
      "text/html": [
       "<div style='font-size:1.5rem;'><b>Table 7</b>: <i>Silhouette scores by number of clusters</i>. Values are sorted by the highest silhouette score. </div>"
      ],
      "text/plain": [
       "<IPython.core.display.HTML object>"
      ]
     },
     "metadata": {},
     "output_type": "display_data"
    },
    {
     "ename": "KeyError",
     "evalue": "'Silhouette Score'",
     "output_type": "error",
     "traceback": [
      "\u001b[1;31m---------------------------------------------------------------------------\u001b[0m",
      "\u001b[1;31mKeyError\u001b[0m                                  Traceback (most recent call last)",
      "\u001b[1;32m<ipython-input-29-0cd61856d3e2>\u001b[0m in \u001b[0;36m<module>\u001b[1;34m\u001b[0m\n\u001b[0;32m      2\u001b[0m \u001b[1;33m\u001b[0m\u001b[0m\n\u001b[0;32m      3\u001b[0m \u001b[0mfigure_legend\u001b[0m\u001b[1;33m(\u001b[0m\u001b[1;34m\"Table 7\"\u001b[0m\u001b[1;33m,\u001b[0m \u001b[1;34m\"Silhouette scores by number of clusters\"\u001b[0m\u001b[1;33m,\u001b[0m \u001b[1;34m\"Values are sorted by the highest silhouette score.\"\u001b[0m\u001b[1;33m)\u001b[0m\u001b[1;33m\u001b[0m\u001b[1;33m\u001b[0m\u001b[0m\n\u001b[1;32m----> 4\u001b[1;33m \u001b[0mdisplay\u001b[0m\u001b[1;33m(\u001b[0m\u001b[0msilhouette_scores\u001b[0m\u001b[1;33m.\u001b[0m\u001b[0msort_values\u001b[0m\u001b[1;33m(\u001b[0m\u001b[1;33m[\u001b[0m\u001b[1;34m\"Silhouette Score\"\u001b[0m\u001b[1;33m,\u001b[0m \u001b[1;34m\"Weighted Score\"\u001b[0m\u001b[1;33m]\u001b[0m\u001b[1;33m,\u001b[0m \u001b[0mascending\u001b[0m\u001b[1;33m=\u001b[0m\u001b[1;32mFalse\u001b[0m\u001b[1;33m)\u001b[0m\u001b[1;33m.\u001b[0m\u001b[0mreset_index\u001b[0m\u001b[1;33m(\u001b[0m\u001b[1;33m)\u001b[0m\u001b[1;33m.\u001b[0m\u001b[0mhead\u001b[0m\u001b[1;33m(\u001b[0m\u001b[1;33m)\u001b[0m\u001b[1;33m)\u001b[0m\u001b[1;33m\u001b[0m\u001b[1;33m\u001b[0m\u001b[0m\n\u001b[0m\u001b[0;32m      5\u001b[0m \u001b[1;33m\u001b[0m\u001b[0m\n\u001b[0;32m      6\u001b[0m \u001b[0mbest_score\u001b[0m \u001b[1;33m=\u001b[0m \u001b[0msilhouette_scores\u001b[0m\u001b[1;33m.\u001b[0m\u001b[0msort_values\u001b[0m\u001b[1;33m(\u001b[0m\u001b[1;34m'Silhouette Score'\u001b[0m\u001b[1;33m)\u001b[0m\u001b[1;33m.\u001b[0m\u001b[0miloc\u001b[0m\u001b[1;33m[\u001b[0m\u001b[1;33m-\u001b[0m\u001b[1;36m1\u001b[0m\u001b[1;33m]\u001b[0m\u001b[1;33m.\u001b[0m\u001b[0mto_dict\u001b[0m\u001b[1;33m(\u001b[0m\u001b[1;33m)\u001b[0m\u001b[1;33m\u001b[0m\u001b[1;33m\u001b[0m\u001b[0m\n",
      "\u001b[1;32m~\\Anaconda3\\envs\\gtex\\lib\\site-packages\\pandas\\core\\frame.py\u001b[0m in \u001b[0;36msort_values\u001b[1;34m(self, by, axis, ascending, inplace, kind, na_position, ignore_index, key)\u001b[0m\n\u001b[0;32m   5275\u001b[0m             \u001b[1;32mfrom\u001b[0m \u001b[0mpandas\u001b[0m\u001b[1;33m.\u001b[0m\u001b[0mcore\u001b[0m\u001b[1;33m.\u001b[0m\u001b[0msorting\u001b[0m \u001b[1;32mimport\u001b[0m \u001b[0mlexsort_indexer\u001b[0m\u001b[1;33m\u001b[0m\u001b[1;33m\u001b[0m\u001b[0m\n\u001b[0;32m   5276\u001b[0m \u001b[1;33m\u001b[0m\u001b[0m\n\u001b[1;32m-> 5277\u001b[1;33m             \u001b[0mkeys\u001b[0m \u001b[1;33m=\u001b[0m \u001b[1;33m[\u001b[0m\u001b[0mself\u001b[0m\u001b[1;33m.\u001b[0m\u001b[0m_get_label_or_level_values\u001b[0m\u001b[1;33m(\u001b[0m\u001b[0mx\u001b[0m\u001b[1;33m,\u001b[0m \u001b[0maxis\u001b[0m\u001b[1;33m=\u001b[0m\u001b[0maxis\u001b[0m\u001b[1;33m)\u001b[0m \u001b[1;32mfor\u001b[0m \u001b[0mx\u001b[0m \u001b[1;32min\u001b[0m \u001b[0mby\u001b[0m\u001b[1;33m]\u001b[0m\u001b[1;33m\u001b[0m\u001b[1;33m\u001b[0m\u001b[0m\n\u001b[0m\u001b[0;32m   5278\u001b[0m \u001b[1;33m\u001b[0m\u001b[0m\n\u001b[0;32m   5279\u001b[0m             \u001b[1;31m# need to rewrap columns in Series to apply key function\u001b[0m\u001b[1;33m\u001b[0m\u001b[1;33m\u001b[0m\u001b[1;33m\u001b[0m\u001b[0m\n",
      "\u001b[1;32m~\\Anaconda3\\envs\\gtex\\lib\\site-packages\\pandas\\core\\frame.py\u001b[0m in \u001b[0;36m<listcomp>\u001b[1;34m(.0)\u001b[0m\n\u001b[0;32m   5275\u001b[0m             \u001b[1;32mfrom\u001b[0m \u001b[0mpandas\u001b[0m\u001b[1;33m.\u001b[0m\u001b[0mcore\u001b[0m\u001b[1;33m.\u001b[0m\u001b[0msorting\u001b[0m \u001b[1;32mimport\u001b[0m \u001b[0mlexsort_indexer\u001b[0m\u001b[1;33m\u001b[0m\u001b[1;33m\u001b[0m\u001b[0m\n\u001b[0;32m   5276\u001b[0m \u001b[1;33m\u001b[0m\u001b[0m\n\u001b[1;32m-> 5277\u001b[1;33m             \u001b[0mkeys\u001b[0m \u001b[1;33m=\u001b[0m \u001b[1;33m[\u001b[0m\u001b[0mself\u001b[0m\u001b[1;33m.\u001b[0m\u001b[0m_get_label_or_level_values\u001b[0m\u001b[1;33m(\u001b[0m\u001b[0mx\u001b[0m\u001b[1;33m,\u001b[0m \u001b[0maxis\u001b[0m\u001b[1;33m=\u001b[0m\u001b[0maxis\u001b[0m\u001b[1;33m)\u001b[0m \u001b[1;32mfor\u001b[0m \u001b[0mx\u001b[0m \u001b[1;32min\u001b[0m \u001b[0mby\u001b[0m\u001b[1;33m]\u001b[0m\u001b[1;33m\u001b[0m\u001b[1;33m\u001b[0m\u001b[0m\n\u001b[0m\u001b[0;32m   5278\u001b[0m \u001b[1;33m\u001b[0m\u001b[0m\n\u001b[0;32m   5279\u001b[0m             \u001b[1;31m# need to rewrap columns in Series to apply key function\u001b[0m\u001b[1;33m\u001b[0m\u001b[1;33m\u001b[0m\u001b[1;33m\u001b[0m\u001b[0m\n",
      "\u001b[1;32m~\\Anaconda3\\envs\\gtex\\lib\\site-packages\\pandas\\core\\generic.py\u001b[0m in \u001b[0;36m_get_label_or_level_values\u001b[1;34m(self, key, axis)\u001b[0m\n\u001b[0;32m   1558\u001b[0m             \u001b[0mvalues\u001b[0m \u001b[1;33m=\u001b[0m \u001b[0mself\u001b[0m\u001b[1;33m.\u001b[0m\u001b[0maxes\u001b[0m\u001b[1;33m[\u001b[0m\u001b[0maxis\u001b[0m\u001b[1;33m]\u001b[0m\u001b[1;33m.\u001b[0m\u001b[0mget_level_values\u001b[0m\u001b[1;33m(\u001b[0m\u001b[0mkey\u001b[0m\u001b[1;33m)\u001b[0m\u001b[1;33m.\u001b[0m\u001b[0m_values\u001b[0m\u001b[1;33m\u001b[0m\u001b[1;33m\u001b[0m\u001b[0m\n\u001b[0;32m   1559\u001b[0m         \u001b[1;32melse\u001b[0m\u001b[1;33m:\u001b[0m\u001b[1;33m\u001b[0m\u001b[1;33m\u001b[0m\u001b[0m\n\u001b[1;32m-> 1560\u001b[1;33m             \u001b[1;32mraise\u001b[0m \u001b[0mKeyError\u001b[0m\u001b[1;33m(\u001b[0m\u001b[0mkey\u001b[0m\u001b[1;33m)\u001b[0m\u001b[1;33m\u001b[0m\u001b[1;33m\u001b[0m\u001b[0m\n\u001b[0m\u001b[0;32m   1561\u001b[0m \u001b[1;33m\u001b[0m\u001b[0m\n\u001b[0;32m   1562\u001b[0m         \u001b[1;31m# Check for duplicates\u001b[0m\u001b[1;33m\u001b[0m\u001b[1;33m\u001b[0m\u001b[1;33m\u001b[0m\u001b[0m\n",
      "\u001b[1;31mKeyError\u001b[0m: 'Silhouette Score'"
     ]
    }
   ],
   "source": [
    "silhouette_scores = pd.DataFrame(silhouette_scores)\n",
    "\n",
    "figure_legend(\"Table 7\", \"Silhouette scores by number of clusters\", \"Values are sorted by the highest silhouette score.\")\n",
    "display(silhouette_scores.sort_values([\"Silhouette Score\", \"Weighted Score\"], ascending=False).reset_index().head())\n",
    "\n",
    "best_score = silhouette_scores.sort_values('Silhouette Score').iloc[-1].to_dict()\n",
    "best_weighted = silhouette_scores.sort_values('Weighted Score').iloc[-1].to_dict()\n",
    "\n",
    "best = {\"Silhouette Score\": best_score, \"Weighted Score\": best_weighted}"
   ]
  },
  {
   "cell_type": "code",
   "execution_count": null,
   "metadata": {
    "execution": {
     "iopub.execute_input": "2020-09-15T20:40:23.600811Z",
     "iopub.status.busy": "2020-09-15T20:40:23.599632Z",
     "iopub.status.idle": "2020-09-15T20:40:23.608807Z",
     "shell.execute_reply": "2020-09-15T20:40:23.609409Z"
    }
   },
   "outputs": [],
   "source": [
    "if not k:\n",
    "    k = int(best[\"Silhouette Score\"][\"N Clusters\"])\n",
    "    if (use_weighted_silhouette_score):\n",
    "        k = int(best[\"Weighted Score\"][\"N Clusters\"])\n",
    "    \n",
    "print(f\"Ideal k: {k} clusters\")"
   ]
  },
  {
   "cell_type": "code",
   "execution_count": null,
   "metadata": {
    "execution": {
     "iopub.execute_input": "2020-09-15T20:40:23.612508Z",
     "iopub.status.busy": "2020-09-15T20:40:23.611388Z",
     "iopub.status.idle": "2020-09-15T20:40:25.089156Z",
     "shell.execute_reply": "2020-09-15T20:40:25.089736Z"
    }
   },
   "outputs": [],
   "source": [
    "# plot both the uneqeighted and weighted scores as a function of # of clusters\n",
    "colors = {\"Silhouette Score\": \"#7C88FB\", \"Weighted Score\": \"#00CC96\"}\n",
    "\n",
    "for score_type in ['Silhouette Score', 'Weighted Score']:\n",
    "    plt.plot(silhouette_scores['N Clusters'], silhouette_scores[score_type], label=score_type,color=colors[score_type])\n",
    "    plt.scatter([best[score_type]['N Clusters']], [best[score_type][score_type]], label=f\"Best {score_type}: {int(best[score_type]['N Clusters'])} clusters\",color=colors[score_type])\n",
    "plt.axvline(k, label = f\"Ideal k: {k} clusters\", color =\"#EF553B\", alpha=0.8,dashes=(3,3))\n",
    "plt.legend()\n",
    "plt.ylabel('Score')\n",
    "plt.xlabel('Number of Clusters')\n",
    "plt.show()\n",
    "figure_legend(\"Figure 8\", \"Cluster size selection\", \"The dotted line indicates the value of the 'ideal' <i>k</i> as chosen by the selected scoring method. This value will be used in subsequent clustering.\")"
   ]
  },
  {
   "cell_type": "code",
   "execution_count": null,
   "metadata": {
    "execution": {
     "iopub.execute_input": "2020-09-15T20:40:25.096444Z",
     "iopub.status.busy": "2020-09-15T20:40:25.095750Z",
     "iopub.status.idle": "2020-09-15T20:40:25.488911Z",
     "shell.execute_reply": "2020-09-15T20:40:25.489695Z"
    },
    "scrolled": true
   },
   "outputs": [],
   "source": [
    "# Compute the k-means dataframe using the ideal number of clusters\n",
    "km = KMeans(n_clusters=k, random_state=42)\n",
    "km_clusters = km.fit_predict(df_data_norm_umap.values)\n",
    "\n",
    "df_data_norm_km = pd.DataFrame({\n",
    "'Cluster': [\n",
    "    str(c)\n",
    "    for c in km_clusters\n",
    "]}, index=df_data_norm_umap.index)\n",
    "\n",
    "\n",
    "print(f'Computed {len(df_data_norm_km[\"Cluster\"].unique())} clusters')"
   ]
  },
  {
   "cell_type": "code",
   "execution_count": null,
   "metadata": {},
   "outputs": [],
   "source": [
    "figure_legend(\"Table 8\", \"Clusters of first five samples.\")\n",
    "df_data_norm_km.head()"
   ]
  },
  {
   "cell_type": "code",
   "execution_count": null,
   "metadata": {
    "execution": {
     "iopub.execute_input": "2020-09-15T20:40:25.493898Z",
     "iopub.status.busy": "2020-09-15T20:40:25.493114Z",
     "iopub.status.idle": "2020-09-15T20:40:25.500702Z",
     "shell.execute_reply": "2020-09-15T20:40:25.501450Z"
    }
   },
   "outputs": [],
   "source": [
    "# Map each cluster to a color for later plots\n",
    "clusters = df_data_norm_km[\"Cluster\"].unique()\n",
    "#plotly_colors = px.colors.qualitative.Plotly\n",
    "plotly_colors = ['#636EFA', '#EF553B', '#00CC96', '#AB63FA', '#FFA15A', '#19D3F3', '#FF6692', '#B6E880', '#FF97FF', '#FECB52']\n",
    "cluster_colors = {}\n",
    "i = 0\n",
    "for c in clusters:\n",
    "    cluster_colors[c] = plotly_colors[i % len(plotly_colors)]\n",
    "    i += 1\n",
    "\n",
    "def cluster_heading(cluster):\n",
    "    display(HTML(f'''\n",
    "    <center>\n",
    "    <div style='background-color:{cluster_colors[cluster] + '98'};\n",
    "        width:100%;height:3rem;display:flex;align-items:center;\n",
    "        justify-content:center;color:white;font-size:2rem'>\n",
    "        <center>Cluster {cluster}</center>\n",
    "    </div>\n",
    "    </center>'''))\n",
    "    "
   ]
  },
  {
   "cell_type": "markdown",
   "metadata": {},
   "source": [
    "Next, the differential expression for each cluster is computed. The <a href=\"http://www.maayanlab.net/CD/\">Characteristic Direction method</a> is used for identifying differentially expressed genes among the different clusters."
   ]
  },
  {
   "cell_type": "code",
   "execution_count": null,
   "metadata": {
    "execution": {
     "iopub.execute_input": "2020-09-15T20:40:25.506065Z",
     "iopub.status.busy": "2020-09-15T20:40:25.505237Z",
     "iopub.status.idle": "2020-09-15T20:40:57.605316Z",
     "shell.execute_reply": "2020-09-15T20:40:57.605846Z"
    },
    "scrolled": true
   },
   "outputs": [],
   "source": [
    "# Get differential expression for each cluster, using the dataset containing all genes\n",
    "diff_expr = {}\n",
    "for cluster, samples in df_data_norm_km.groupby('Cluster'):\n",
    "    diff_expr[f\"Cluster {cluster} CD\"] = characteristic_direction(\n",
    "        # expression outside of this cluster\n",
    "        df_data_norm_all_genes.loc[:, df_data_norm_all_genes.columns.difference(samples.index)],\n",
    "        # expression in this cluster\n",
    "        df_data_norm_all_genes.loc[:, samples.index],\n",
    "      )['CD-coefficient']\n",
    "\n",
    "df_diff_expr = pd.DataFrame(diff_expr)\n",
    "df_diff_expr = df_diff_expr.sort_values(by='Cluster 0 CD',ascending=True)\n",
    "df_diff_expr['Symbol'] = df_diff_expr.index.values"
   ]
  },
  {
   "cell_type": "code",
   "execution_count": null,
   "metadata": {},
   "outputs": [],
   "source": [
    "figure_legend(\"Table 9\", \"Differential expression of genes by cluster\", \"By default, the top 5 most differentially expressed genes are shown, along with the corresponding characteristic directions for each cluster.\")\n",
    "display(df_diff_expr.head())"
   ]
  },
  {
   "cell_type": "markdown",
   "metadata": {},
   "source": [
    "Logistic regression is performed for each metadata category to determine which categories most accurately predict cluster designations for each data point. ROC curves are also plotted for categories with top five highest AUC scores."
   ]
  },
  {
   "cell_type": "code",
   "execution_count": null,
   "metadata": {
    "execution": {
     "iopub.execute_input": "2020-09-15T20:40:57.614734Z",
     "iopub.status.busy": "2020-09-15T20:40:57.613988Z",
     "iopub.status.idle": "2020-09-15T20:41:07.505254Z",
     "shell.execute_reply": "2020-09-15T20:41:07.508217Z"
    },
    "scrolled": true
   },
   "outputs": [],
   "source": [
    "# LR\n",
    "aucs = {}\n",
    "num_rocs_plotted = 0\n",
    "rocs = {}\n",
    "\n",
    "for cluster, samples in df_data_norm_km.groupby('Cluster'): \n",
    "    aucs[cluster] = {}\n",
    "    rocs[cluster] = []\n",
    "\n",
    "    for feature in features:\n",
    "        lr = LogisticRegression()\n",
    "        X = df_metadata.copy()\n",
    "        X = X[feature]\n",
    "        X = pd.merge(X, df_data_norm_km, left_index = True, right_index = True)\n",
    "\n",
    "        # drop NAs, and move on if dataset is empty\n",
    "        X.replace(\"not reported\", None)\n",
    "        X = X.dropna()\n",
    "        if (X.shape[0] == 0): continue\n",
    "\n",
    "        cluster_data = X[\"Cluster\"]\n",
    "        X = X.drop(columns= [\"Cluster\"])\n",
    "\n",
    "        # one-hot encode non numerical data\n",
    "        if (not isinstance(X[feature][0], (int, float, complex))):\n",
    "            X = pd.get_dummies(X[feature], prefix=feature)\n",
    "\n",
    "        y_true = (cluster_data == cluster)\n",
    "        \n",
    "        if (len(y_true.unique()) < 2): # if there is only one class in the dataset\n",
    "            print(f\"Not enough data to classify cluster {cluster} based on category {feature}\")\n",
    "            aucs[cluster][feature] = np.nan\n",
    "            continue \n",
    "                  \n",
    "        lr.fit(X, y_true)\n",
    "\n",
    "        y_score = lr.predict_proba(X)[:, 1]\n",
    "        auc_score = roc_auc_score(y_true, y_score)\n",
    "        aucs[cluster][feature] = auc_score\n",
    "        \n",
    "        # save the ROCs\n",
    "       \n",
    "        rocs[cluster].append({\"auc\":auc_score, \"lr\": lr, \"X\": X, \"y_true\":y_true, \"title\": f'Predictions of cluster {cluster} by category {feature}'})\n",
    "        \n",
    "df_cluster_aucs = pd.DataFrame(aucs)\n",
    "df_cluster_aucs.index.name=\"Category\"\n",
    "\n",
    "# sort features by avg AUC across all clusters\n",
    "df_cluster_aucs[\"avg\"] = [ np.mean(df_cluster_aucs.T[f]) for f in df_cluster_aucs.index.values ]\n",
    "df_cluster_aucs = df_cluster_aucs.sort_values(by = \"avg\", ascending=False)\n",
    "df_cluster_aucs = df_cluster_aucs.drop(columns = \"avg\")\n",
    "\n",
    "cols = [('Cluster', col) for col in df_cluster_aucs.columns ]\n",
    "df_cluster_aucs.columns = pd.MultiIndex.from_tuples(cols)"
   ]
  },
  {
   "cell_type": "code",
   "execution_count": null,
   "metadata": {},
   "outputs": [],
   "source": [
    "figure_legend(\"Table 10\", \"Average AUC scores for top predictive metadata categories, by cluster\", \"Scores for the top 10 metadata categories for predicting clusters, as determined by the average AUC score across all clusters, are shown. Higher AUC scores correspond to better classifiers for distinguishing whether or not a datapoint belongs to a certain cluster.\")\n",
    "display(df_cluster_aucs.head(10))"
   ]
  },
  {
   "cell_type": "code",
   "execution_count": null,
   "metadata": {
    "execution": {
     "iopub.execute_input": "2020-09-15T20:41:07.511240Z",
     "iopub.status.busy": "2020-09-15T20:41:07.510550Z",
     "iopub.status.idle": "2020-09-15T20:41:13.631065Z",
     "shell.execute_reply": "2020-09-15T20:41:13.630340Z"
    },
    "scrolled": false
   },
   "outputs": [],
   "source": [
    "# plot top 2 (or however many exist) ROCs for each cluster\n",
    "matplotlib.rc('font', size=16)\n",
    "\n",
    "for cluster, plots in rocs.items():\n",
    "    plots.sort(reverse=True, key=lambda x: x[\"auc\"])\n",
    "    cluster_heading(cluster)\n",
    "    \n",
    "    if len(plots) < 2:\n",
    "        best_rocs = plots\n",
    "    else:\n",
    "        best_rocs = plots[:2]\n",
    "\n",
    "    num_plots = len(best_rocs)\n",
    "    figure,axes = plt.subplots(int(math.ceil(num_plots / 2.)), 2, figsize=(15,(len(best_rocs)*3.5)))\n",
    "    \n",
    "    axes = axes.flatten()\n",
    "    for i in range(len(axes)):\n",
    "        if i >= len(best_rocs):\n",
    "            axes[i].remove()\n",
    "        else:\n",
    "            plot = best_rocs[i]\n",
    "            fig = metrics.plot_roc_curve(plot[\"lr\"], plot[\"X\"], plot[\"y_true\"], ax=axes[i])\n",
    "\n",
    "            axes[i].set_title('\\n'.join(wrap(plot[\"title\"], 40)))\n",
    "\n",
    "    figure.tight_layout(pad=2)\n",
    "    plt.show()\n",
    "    \n",
    "figure_legend(\"Figure 9\", \"ROCs for top cluster-predicting metadata categories\")\n",
    "\n",
    "matplotlib.rcdefaults()"
   ]
  },
  {
   "cell_type": "markdown",
   "metadata": {},
   "source": [
    "## 6. Identify Up- and Down-Regulated Genes\n",
    "Find the most up- and down-regulated genes for each cluster for visualization in heatmap, and for enrichment analysis. "
   ]
  },
  {
   "cell_type": "code",
   "execution_count": null,
   "metadata": {
    "execution": {
     "iopub.execute_input": "2020-09-15T20:41:13.634972Z",
     "iopub.status.busy": "2020-09-15T20:41:13.634228Z",
     "iopub.status.idle": "2020-09-15T20:41:13.661814Z",
     "shell.execute_reply": "2020-09-15T20:41:13.662771Z"
    }
   },
   "outputs": [],
   "source": [
    "# Merge data\n",
    "df_clustered_umap = pd.merge(left=df_data_norm_km, left_on=\"sample_id\", right=df_data_norm_umap, right_on=\"sample_id\")\n",
    "df_clustered_pca = pd.merge(left=df_data_norm_km, left_on=\"sample_id\", right=df_data_norm_pca, right_on=\"sample_id\")"
   ]
  },
  {
   "cell_type": "code",
   "execution_count": null,
   "metadata": {
    "execution": {
     "iopub.execute_input": "2020-09-15T20:41:13.666983Z",
     "iopub.status.busy": "2020-09-15T20:41:13.665682Z",
     "iopub.status.idle": "2020-09-15T20:41:13.825688Z",
     "shell.execute_reply": "2020-09-15T20:41:13.826559Z"
    }
   },
   "outputs": [],
   "source": [
    "# Get top Genes for each cluster\n",
    "top_genes = {}\n",
    "all_top_genes = []\n",
    "heatmap_top_n = min(heatmap_top_n, top_n_genes_enrichment)\n",
    "for cluster in df_clustered_umap['Cluster'].unique():\n",
    "    cd_col = f'Cluster {cluster} CD'\n",
    "    if cd_col in df_diff_expr.columns:\n",
    "        # top up genes\n",
    "        up_genes = df_diff_expr.loc[df_diff_expr[cd_col].sort_values(ascending=False).iloc[:top_n_genes_enrichment].index, 'Symbol'].values\n",
    "        # top down genes\n",
    "        dn_genes = df_diff_expr.loc[df_diff_expr[cd_col].sort_values(ascending=True).iloc[:top_n_genes_enrichment].index, 'Symbol'].values\n",
    "    else:\n",
    "        raise Exception('Cant find col for cluster')\n",
    "    all_top_genes.append(up_genes[:heatmap_top_n])\n",
    "    all_top_genes.append(dn_genes[:heatmap_top_n])\n",
    "    # save results\n",
    "    top_genes[cluster] = (up_genes, dn_genes)\n",
    "all_top_genes = [item for sublist in all_top_genes for item in sublist]  # flatten all genes to one list"
   ]
  },
  {
   "cell_type": "markdown",
   "metadata": {},
   "source": [
    "Data corresponding to only the `heatmap_top_n` up- and down-regulated genes for each cluster is selected for visualization in a heatmap, with log-transformation and normalization proceeding as before. "
   ]
  },
  {
   "cell_type": "code",
   "execution_count": null,
   "metadata": {
    "execution": {
     "iopub.execute_input": "2020-09-15T20:41:13.830627Z",
     "iopub.status.busy": "2020-09-15T20:41:13.829422Z",
     "iopub.status.idle": "2020-09-15T20:41:18.633262Z",
     "shell.execute_reply": "2020-09-15T20:41:18.632565Z"
    }
   },
   "outputs": [],
   "source": [
    "df_data_norm_heatmap_f = df_data.loc[all_top_genes, :]\n",
    "\n",
    "# compute log normalization of matrix\n",
    "df_data_norm_heatmap_f = log2_normalize(df_data_norm_heatmap_f)\n",
    "\n",
    "# convert to zscores\n",
    "df_data_norm_heatmap_f = zscore_normalize(df_data_norm_heatmap_f) \n",
    "\n",
    "# Plot heatmap\n",
    "cases = df_data_norm_heatmap_f.columns\n",
    "heatmap_cluster_colors = [ cluster_colors[x] for x in df_clustered_umap.loc[cases, :][\"Cluster\"] ]"
   ]
  },
  {
   "cell_type": "code",
   "execution_count": null,
   "metadata": {},
   "outputs": [],
   "source": [
    "sns.clustermap(df_data_norm_heatmap_f,xticklabels=False,col_colors = heatmap_cluster_colors); plt.show()\n",
    "figure_legend(\"Figure 10\", \"Heatmap of most differentially expressed genes\", \"Color coding along the top edge indicates cluster designation of the corresponding sample.\")"
   ]
  },
  {
   "cell_type": "markdown",
   "metadata": {},
   "source": [
    "##  7. Enrichment Analysis with Enrichr\n",
    "\n",
    "Perform enrichment analysis for each cluster by querying the [Enrichr](https://maayanlab.cloud/Enrichr/) API. A link is provided to download the results. "
   ]
  },
  {
   "cell_type": "code",
   "execution_count": null,
   "metadata": {
    "execution": {
     "iopub.execute_input": "2020-09-15T20:41:18.709518Z",
     "iopub.status.busy": "2020-09-15T20:41:18.708701Z",
     "iopub.status.idle": "2020-09-15T20:41:18.712495Z",
     "shell.execute_reply": "2020-09-15T20:41:18.713336Z"
    },
    "scrolled": true
   },
   "outputs": [],
   "source": [
    "# Util functions\n",
    "def enrichr_link_from_genes(genes, description='', enrichr_link='https://amp.pharm.mssm.edu/Enrichr'):\n",
    "    ''' Functional access to Enrichr API\n",
    "    '''\n",
    "    time.sleep(1)\n",
    "    resp = requests.post(enrichr_link + '/addList', files={\n",
    "    'list': (None, '\\n'.join(genes)),\n",
    "    'description': (None, description),\n",
    "    })\n",
    "    if resp.status_code != 200:\n",
    "        raise Exception('Enrichr failed with status {}: {}'.format(\n",
    "          resp.status_code,\n",
    "          resp.text,\n",
    "        ))\n",
    "    # wait a tinybit before returning link (backoff)\n",
    "    time.sleep(3)\n",
    "    result = resp.json()\n",
    "    return dict(result, link=enrichr_link + '/enrich?dataset=' + resp.json()['shortId'])\n",
    "\n",
    "def enrichr_get_top_results(userListId, bg, enrichr_link='https://amp.pharm.mssm.edu/Enrichr'):\n",
    "    time.sleep(1)\n",
    "    resp = requests.get(enrichr_link + '/enrich?userListId={}&backgroundType={}'.format(userListId, bg))\n",
    "    if resp.status_code != 200:\n",
    "        raise Exception('Enrichr failed with status {}: {}'.format(\n",
    "          resp.status_code,\n",
    "          resp.text,\n",
    "        ))\n",
    "    time.sleep(3)\n",
    "    return pd.DataFrame(resp.json()[bg], columns=['rank', 'term', 'pvalue', 'zscore', 'combinedscore', 'overlapping_genes', 'adjusted_pvalue', '', ''])"
   ]
  },
  {
   "cell_type": "code",
   "execution_count": null,
   "metadata": {
    "execution": {
     "iopub.execute_input": "2020-09-15T20:41:18.717465Z",
     "iopub.status.busy": "2020-09-15T20:41:18.715979Z",
     "iopub.status.idle": "2020-09-15T20:48:27.958072Z",
     "shell.execute_reply": "2020-09-15T20:48:27.959054Z"
    }
   },
   "outputs": [],
   "source": [
    "# Get Enrichr links for each cluster\n",
    "enrichr_links = {}\n",
    "\n",
    "for cluster, (up_genes, dn_genes) in top_genes.items():\n",
    "    up_link, dn_link = None, None\n",
    "    if up_genes.size:\n",
    "        try:\n",
    "            up_link = enrichr_link_from_genes(up_genes, f'cluster {cluster} up')\n",
    "        except:\n",
    "            print(f'Enrichr failed for cluster {cluster} up genes')\n",
    "    else:\n",
    "        print(f'cluster {cluster} up: empty')\n",
    "    if dn_genes.size:\n",
    "        try:\n",
    "            dn_link = enrichr_link_from_genes(dn_genes, f'cluster {cluster} down')\n",
    "        except:\n",
    "            print(f'Enrichr failed for cluster {cluster} down genes')\n",
    "    else:\n",
    "        print(f'cluster {cluster} down: empty')\n",
    "    enrichr_links[cluster] = (up_link, dn_link)\n",
    "\n",
    "# Grab top results for each cluster\n",
    "all_enrichr_results = []\n",
    "for cluster, (up_link, dn_link) in enrichr_links.items():\n",
    "    for link_type, link in [('up', up_link), ('down', dn_link)]:\n",
    "        if link is None:\n",
    "            continue\n",
    "        for category, libraries in enrichr_libraries.items():\n",
    "            for library in libraries:\n",
    "                try:\n",
    "                    results = enrichr_get_top_results(link['userListId'], library).sort_values('pvalue').iloc[:top_n_results]\n",
    "                    results['link'] = link['link']\n",
    "                    results['library'] = library\n",
    "                    results['category'] = category\n",
    "                    results['direction'] = link_type\n",
    "                    results['cluster'] = cluster\n",
    "                    all_enrichr_results.append(results)\n",
    "                except:\n",
    "                    print('{}: {} {} {} cluster {} failed, continuing'.format(link, library, category, link_type, cluster))\n",
    "\n",
    "df_enrichr_results = pd.concat(all_enrichr_results).reset_index()"
   ]
  },
  {
   "cell_type": "code",
   "execution_count": null,
   "metadata": {
    "execution": {
     "iopub.execute_input": "2020-09-15T20:48:27.963407Z",
     "iopub.status.busy": "2020-09-15T20:48:27.962103Z",
     "iopub.status.idle": "2020-09-15T20:48:30.181482Z",
     "shell.execute_reply": "2020-09-15T20:48:29.066465Z"
    }
   },
   "outputs": [],
   "source": [
    "# Display a dataframe with clickable enrichr links\n",
    "figure_legend(\"Table 11\",\"Enrichment analysis results from Enrichr\", \"Results are grouped by expression direction (up/down) and gene set library. Within groups, results are sorted by lowest p-value (highest rank) first.\")\n",
    "df_clickable = df_enrichr_results.copy()\n",
    "df_clickable['link'] = df_clickable[\"link\"].apply(make_clickable)\n",
    "table_html = df_clickable.to_html(escape=False)\n",
    "display(HTML(f'<div style=\"max-height: 250px; overflow-y: auto; margin-bottom: 25px;\">{table_html}</div>'))\n",
    "download_button(df_enrichr_results.to_csv(), 'Download Enrichr results', 'Enrichr results.csv')"
   ]
  },
  {
   "cell_type": "code",
   "execution_count": null,
   "metadata": {
    "execution": {
     "iopub.execute_input": "2020-09-15T20:48:30.202598Z",
     "iopub.status.busy": "2020-09-15T20:48:30.201748Z",
     "shell.execute_reply": "2020-09-15T20:49:10.099402Z"
    },
    "scrolled": false
   },
   "outputs": [],
   "source": [
    "# Make horizontal barplots to visualize top Enrichr results\n",
    "clusters = df_enrichr_results[\"cluster\"].unique()\n",
    "for cluster in clusters:\n",
    "    cluster_results = df_enrichr_results.loc[df_enrichr_results[\"cluster\"] == cluster, :]\n",
    "    libraries = cluster_results[\"library\"].unique()\n",
    "    num_rows = len(libraries)\n",
    "\n",
    "    count = 1 # keep track of which subplot we're on\n",
    "    fig = plt.figure(figsize=(15,5*num_rows))\n",
    "    \n",
    "    for library in cluster_results[\"library\"].unique():\n",
    "            library_results = cluster_results.loc[cluster_results[\"library\"] == library, :]\n",
    "            for direction in library_results[\"direction\"].unique():\n",
    "                plot_results = library_results.loc[cluster_results[\"direction\"] == direction, :]\n",
    "                plot_results = plot_results.sort_values(\"pvalue\",ascending=False)\n",
    "                labels = plot_results[\"term\"]\n",
    "                labels = [ '\\n'.join(wrap(l, 20)) for l in labels ]\n",
    "                values = plot_results[\"pvalue\"]\n",
    "                values = -np.log(values)\n",
    "                \n",
    "                # normalize values to map from 0-1 -> color, with opacity also based on normalized pvalue\n",
    "                cmap = plt.get_cmap('cool')\n",
    "                norm_values = [ 0.3 + (x - min(values))/(max(values) - min(values))*0.7 for x in values]\n",
    "                colors = [ [*cmap(val)[:3], 0.4  + 0.2*val] for val in norm_values]\n",
    "                \n",
    "                # plot result\n",
    "                ax = fig.add_subplot(num_rows,2,count)\n",
    "                ax.barh(labels,values,color = colors)\n",
    "                ax.set_title(f'{library}\\n{direction} genes')\n",
    "                ax.set_xlabel(' – log(pvalue)')\n",
    "                count += 1\n",
    "                \n",
    "    cluster_heading(cluster)\n",
    "    #title = plt.suptitle(f'Cluster {cluster}',fontsize=24, color=\"white\",bbox=(dict(facecolor=cluster_colors[cluster], alpha=0.8,pad=5)))\n",
    "    fig.tight_layout(pad=3, w_pad=2, h_pad=6)\n",
    "    plt.show()\n",
    "    display(HTML(\"<br><br>\"))\n",
    "    \n",
    "figure_legend(\"Figure 11\", \"Enrichment results by cluster\", \"Bar plots indicate the negative log of the p-value for the specified term. One plot is presented per cluster, per gene-set library, per expression direction (up/down).\")"
   ]
  },
  {
   "cell_type": "markdown",
   "metadata": {},
   "source": [
    "## 8. Drug Signature Querying with L1000FWD\n",
    "\n",
    "Query the [L1000 Fireworks Display (L1000FWD)](https://amp.pharm.mssm.edu/L1000FWD/) API to find similar and opposite gene expression signatures from the L1000 database for each cluster, based on the up- and down-regulated genes. Links are provided to the L1000FWD interactive projection of the results for each cluster."
   ]
  },
  {
   "cell_type": "code",
   "execution_count": null,
   "metadata": {
    "execution": {
     "iopub.execute_input": "2020-09-15T20:49:16.679549Z",
     "iopub.status.busy": "2020-09-15T20:49:16.678844Z",
     "iopub.status.idle": "2020-09-15T20:49:16.688297Z",
     "shell.execute_reply": "2020-09-15T20:49:16.658933Z"
    }
   },
   "outputs": [],
   "source": [
    "# Util functions\n",
    "def l1000fwd_results_from_genes(up_genes, down_genes, description='', l100fwd_link='http://amp.pharm.mssm.edu/L1000FWD/'):\n",
    "    ''' Functional access to L1000FWD API\n",
    "    '''\n",
    "    import time\n",
    "    time.sleep(1)\n",
    "    response = requests.post(l100fwd_link + 'sig_search', json={\n",
    "    'up_genes': list(up_genes),\n",
    "    'down_genes': list(down_genes),\n",
    "    })\n",
    "    l1000fwd_results =  {}\n",
    "    if response.status_code != 200:\n",
    "        raise Exception('L1000FWD failed with status {}: {}'.format(\n",
    "          response.status_code,\n",
    "          response.text,\n",
    "        ))\n",
    "    if 'KeyError' in response.text:\n",
    "        l1000fwd_results['result_url'] = None\n",
    "    else:\n",
    "        # Get ID and URL\n",
    "        result_id = response.json()['result_id']\n",
    "        l1000fwd_results['result_url'] = 'https://amp.pharm.mssm.edu/l1000fwd/vanilla/result/'+result_id\n",
    "        l1000fwd_results['result_id'] = result_id\n",
    "\n",
    "        # Get Top\n",
    "        l1000fwd_results['signatures'] = requests.get(l100fwd_link + 'result/topn/' + result_id).json()\n",
    "\n",
    "    # wait a tinybit before returning link (backoff)\n",
    "    time.sleep(1)\n",
    "    return l1000fwd_results\n",
    "\n",
    "def l1000fwd_sig_link(sig_id):\n",
    "    return 'https://amp.pharm.mssm.edu/dmoa/sig/' + sig_id\n",
    "\n",
    "def get_signature_by_id(sig_id):\n",
    "    response = requests.get(\"http://amp.pharm.mssm.edu/L1000FWD/sig/\" + sig_id)\n",
    "    if response.status_code != 200:\n",
    "        raise Exception('L1000FWD signature query  failed with status {}: {}'.format(\n",
    "          response.status_code,\n",
    "          response.text,\n",
    "        ))\n",
    "    return response.json()"
   ]
  },
  {
   "cell_type": "code",
   "execution_count": null,
   "metadata": {
    "execution": {
     "iopub.execute_input": "2020-09-15T20:49:16.691846Z",
     "iopub.status.busy": "2020-09-15T20:49:16.691119Z",
     "iopub.status.idle": "2020-09-15T20:49:16.709188Z",
     "shell.execute_reply": "2020-09-15T20:49:16.710007Z"
    }
   },
   "outputs": [],
   "source": [
    "def display_l1000fwd_results(l1000fwd_results, plot_counter,cluster_id,nr_drugs=7, height=300):\n",
    "    # Check if results\n",
    "    if l1000fwd_results['result_url']:\n",
    "\n",
    "        # Display cluster title\n",
    "        display(HTML('<br><br>'))\n",
    "        cluster_heading(cluster)\n",
    "\n",
    "        # Display IFrae\n",
    "        display(HTML(f\"<a href='{l1000fwd_results['result_url']}' target='_blank'> View L1000FWD for cluster {cluster_id}</a>\"))\n",
    "    \n",
    "        # Display tables\n",
    "        for direction, signature_list in l1000fwd_results['signatures'].items():\n",
    "\n",
    "            # Fix dataframe\n",
    "            rename_dict = {'sig_id': 'Signature ID', 'pvals': 'P-value', 'qvals': 'FDR', 'zscores': 'Z-score', 'combined_scores': 'Combined Score'}\n",
    "            signature_dataframe = pd.DataFrame(signature_list)[list(rename_dict.keys())].rename(columns=rename_dict).sort_values('P-value').rename_axis('Rank')\n",
    "            signature_dataframe.index = [x + 1 for x in range(len(signature_dataframe.index))]\n",
    "            signature_csv = signature_dataframe.to_csv(sep=\",\")\n",
    "\n",
    "            # Display table\n",
    "            pd.set_option('max.colwidth', None)\n",
    "            signature_dataframe['Signature ID'] = [f'<a href={l1000fwd_sig_link(x)} target=\"_blank\">{x}</a>' for x in signature_dataframe['Signature ID']]\n",
    "            table_html = signature_dataframe.to_html(escape=False, classes='w-100')\n",
    "            display(HTML(f'<h3>{direction.title()} Signatures: </h3>'))\n",
    "            display(HTML(f'<style>.w-100{{width: 100% !important;}}</style><div style=\"max-height: 250px; overflow-y: auto; margin-bottom: 25px;\">{table_html}</div>'))\n",
    "\n",
    "            # Display download button\n",
    "            download_button(signature_csv, f'Download {direction.title()} Signatures', f'Cluster {cluster_id} L1000FWD {direction.title()} signatures.csv')\n",
    "        # Link\n",
    "        display(HTML('Full results available at: <a href=\"{result_url}\" target=\"_blank\">{result_url}</a>.'.format(**l1000fwd_results)))\n",
    "        \n",
    "    # Display error\n",
    "    else:\n",
    "        display(Markdown('### No results were found.\\n This is likely due to the fact that the gene identifiers were not recognized by L1000FWD. Please note that L1000FWD currently only supports HGNC gene symbols (https://www.genenames.org/). If a dataset uses other gene identifier systems, such as Ensembl IDs or Entrez IDs, consider converting them to HGNC. Automated gene identifier conversion is currently under development.'))\n"
   ]
  },
  {
   "cell_type": "code",
   "execution_count": null,
   "metadata": {
    "execution": {
     "iopub.execute_input": "2020-09-15T20:49:16.713853Z",
     "iopub.status.busy": "2020-09-15T20:49:16.712658Z",
     "shell.execute_reply": "2020-09-15T20:52:46.943497Z"
    }
   },
   "outputs": [],
   "source": [
    "plot_counter = 0\n",
    "all_l1000fwd_results = {}\n",
    "\n",
    "for cluster, (up_genes, dn_genes) in top_genes.items():\n",
    "    try:\n",
    "        results = l1000fwd_results_from_genes(up_genes,dn_genes)\n",
    "        all_l1000fwd_results[cluster] = results\n",
    "        figure_legend(\"Table 12\", \"Similar and opposite L1000 signatures by cluster\", \"Results are sorted by lowest p-value.\")\n",
    "        display_l1000fwd_results(results,plot_counter,cluster)\n",
    "        plot_counter += 1\n",
    "    except:\n",
    "        print(f'L1000FWD API failed for cluster {cluster}, continuing')"
   ]
  },
  {
   "cell_type": "markdown",
   "metadata": {},
   "source": [
    "### 8a. Drug Suggestions\n",
    "The opposite signatures of a given cluster provide suggestions for a set of drugs that may perturb a cluster and present potential treatments for disease states in which the original signature is present."
   ]
  },
  {
   "cell_type": "code",
   "execution_count": null,
   "metadata": {
    "execution": {
     "iopub.execute_input": "2020-09-15T20:52:51.029389Z",
     "iopub.status.busy": "2020-09-15T20:52:51.028669Z",
     "iopub.status.idle": "2020-09-15T20:52:52.966777Z",
     "shell.execute_reply": "2020-09-15T20:52:52.967350Z"
    }
   },
   "outputs": [],
   "source": [
    "df_drugs = pd.read_csv(\"https://amp.pharm.mssm.edu/l1000fwd/download/Drugs_metadata.csv\")\n",
    "\n",
    "# Load top drug suggestions for each cluster based on the drugs used to produce the top_n_drugs opposite signatures\n",
    "drug_results = {}\n",
    "for cluster, results in all_l1000fwd_results.items():\n",
    "    opposite_sigs = results[\"signatures\"][\"opposite\"][:top_n_drugs]\n",
    "    sig_ids = [sig[\"sig_id\"] for sig in opposite_sigs]\n",
    "    pert_ids = []\n",
    "    for sig_id in sig_ids:\n",
    "        try:\n",
    "            signature = get_signature_by_id(sig_id)\n",
    "            pert_ids.append(signature[\"pert_id\"])\n",
    "        except: \n",
    "            print(f'L1000FWD API failed for cluster {cluster}, sig_id {sig_id}, continuing')\n",
    "    \n",
    "    df_cluster_drugs = df_drugs[df_drugs[\"pert_id\"].isin(pert_ids)].copy()\n",
    "    df_cluster_drugs[\"cluster\"] = cluster\n",
    "    df_cluster_drugs = df_cluster_drugs[[\"cluster\", *list(filter(lambda x: x!=\"cluster\", df_cluster_drugs.columns))]]\n",
    "    drug_results[cluster] = df_cluster_drugs\n",
    "    \n",
    "df_all_drugs = pd.concat(drug_results).reset_index()"
   ]
  },
  {
   "cell_type": "code",
   "execution_count": null,
   "metadata": {
    "execution": {
     "iopub.execute_input": "2020-09-15T20:52:52.974181Z",
     "iopub.status.busy": "2020-09-15T20:52:52.973480Z",
     "iopub.status.idle": "2020-09-15T20:52:53.202455Z",
     "shell.execute_reply": "2020-09-15T20:52:53.128310Z"
    }
   },
   "outputs": [],
   "source": [
    "# Display a dataframe with clickable L1000FWD links\n",
    "figure_legend(\"Table 13\", \"Drugs used to produce most opposite signatures for each cluster\", \"Each entry is a drug or small molecule used for perturbation in the L1000 experiments, which resulted in a gene expression signature most opposite to that of the specified cluster.\")\n",
    "df_clickable = df_all_drugs.copy()\n",
    "df_clickable['pert_url'] = df_clickable[\"pert_url\"].apply(make_clickable)\n",
    "table_html = df_clickable.to_html(escape=False)\n",
    "display(HTML(f'<div style=\"max-height: 250px; overflow-y: auto; margin-bottom: 25px;\">{table_html}</div>'))\n",
    "download_button(df_all_drugs.to_csv(), 'Download L1000FWD drug results', 'L1000FWD drugs.csv')"
   ]
  },
  {
   "cell_type": "code",
   "execution_count": null,
   "metadata": {},
   "outputs": [],
   "source": []
  }
 ],
 "metadata": {
  "kernelspec": {
   "display_name": "gtex",
   "language": "python",
   "name": "gtex"
  },
  "language_info": {
   "codemirror_mode": {
    "name": "ipython",
    "version": 3
   },
   "file_extension": ".py",
   "mimetype": "text/x-python",
   "name": "python",
   "nbconvert_exporter": "python",
   "pygments_lexer": "ipython3",
   "version": "3.7.9"
  }
 },
 "nbformat": 4,
 "nbformat_minor": 4
}
